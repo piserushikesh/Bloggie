{
  "nbformat": 4,
  "nbformat_minor": 0,
  "metadata": {
    "colab": {
      "provenance": [],
      "authorship_tag": "ABX9TyN4UV2yO9ZrXNFdPX1ZspoT",
      "include_colab_link": true
    },
    "kernelspec": {
      "name": "python3",
      "display_name": "Python 3"
    },
    "language_info": {
      "name": "python"
    }
  },
  "cells": [
    {
      "cell_type": "markdown",
      "metadata": {
        "id": "view-in-github",
        "colab_type": "text"
      },
      "source": [
        "<a href=\"https://colab.research.google.com/github/piserushikesh/Bloggie/blob/master/Approch_1.ipynb\" target=\"_parent\"><img src=\"https://colab.research.google.com/assets/colab-badge.svg\" alt=\"Open In Colab\"/></a>"
      ]
    },
    {
      "cell_type": "code",
      "execution_count": 40,
      "metadata": {
        "id": "KGQZLqFVs8aQ"
      },
      "outputs": [],
      "source": [
        "import random\n",
        "import names"
      ]
    },
    {
      "cell_type": "code",
      "source": [
        "!pip install names"
      ],
      "metadata": {
        "colab": {
          "base_uri": "https://localhost:8080/"
        },
        "id": "qDVkK8EY9JbW",
        "outputId": "a1f6e722-45db-4452-caf8-d47fe1581302"
      },
      "execution_count": 41,
      "outputs": [
        {
          "output_type": "stream",
          "name": "stdout",
          "text": [
            "Requirement already satisfied: names in /usr/local/lib/python3.10/dist-packages (0.3.0)\n"
          ]
        }
      ]
    },
    {
      "cell_type": "code",
      "source": [
        "def choose_name():\n",
        "  generated_name= names.get_full_name(gender='male')\n",
        "  return generated_name"
      ],
      "metadata": {
        "id": "Z-6tPo_U2rWB"
      },
      "execution_count": 42,
      "outputs": []
    },
    {
      "cell_type": "code",
      "source": [
        "def generate_physician_name():\n",
        "    # Lists of common first names and last names\n",
        "    first_names = [\"Samantha\", \"Benjamin\", \"Michael\", \"Emily\", \"Christopher\", \"Jennifer\", \"Kevin\", \"Amanda\", \"Mark\", \"Jessica\"]\n",
        "    last_names = [\"Miller\", \"Patel\", \"Johnson\", \"Wong\", \"Martinez\", \"Lee\", \"Davis\", \"Wilson\", \"Thompson\", \"Smith\"]\n",
        "\n",
        "    # Randomly select a first name and last name\n",
        "    first_name = random.choice(first_names)\n",
        "    last_name = random.choice(last_names)\n",
        "\n",
        "    # Randomly select a designation\n",
        "    designations = [\"Dr.\", \"M.D.\", \"DO\", \"MBBS\", \"M.D.,PhD\", \"DDS\", \"DMD\", \"OD\", \"DPM\"]\n",
        "    designation = random.choice(designations)\n",
        "\n",
        "    # Generate the physician name\n",
        "    formats = [\n",
        "    f\"{first_name} {last_name} {designation}\",\n",
        "    f\"{designation} {first_name} {last_name}\"\n",
        "     ]\n",
        "    physician_name = random.choice(formats)\n",
        "\n",
        "    return physician_name\n",
        "\n",
        "# Example usage:\n",
        "for _ in range(10):\n",
        "    print(generate_physician_name())"
      ],
      "metadata": {
        "colab": {
          "base_uri": "https://localhost:8080/"
        },
        "id": "MxSQMbF9tb32",
        "outputId": "d21ef87a-555c-439d-8c16-4906ffe63212"
      },
      "execution_count": 43,
      "outputs": [
        {
          "output_type": "stream",
          "name": "stdout",
          "text": [
            "OD Michael Wong\n",
            "Emily Johnson Dr.\n",
            "OD Amanda Miller\n",
            "Mark Thompson DDS\n",
            "Jennifer Wilson DPM\n",
            "DMD Emily Davis\n",
            "Mark Lee DDS\n",
            "DDS Amanda Miller\n",
            "DO Christopher Thompson\n",
            "Kevin Miller DDS\n"
          ]
        }
      ]
    },
    {
      "cell_type": "code",
      "source": [
        "def generate_assistant():\n",
        "    full_name = choose_name()\n",
        "    assistants = [\n",
        "        \"Medical Assistant\",\n",
        "        \"Physician Assistant\",\n",
        "        \"Surgical Assistant\",\n",
        "        \"Physical Therapy Assistant\",\n",
        "        \"Dental Assistant\",\n",
        "        \"Counseling Assistant\",\n",
        "        \"Physical Therapy Assistant\",\n",
        "        \"Assistant\"\n",
        "\n",
        "    ]\n",
        "    assistant_speciality = random.choice(assistants)\n",
        "    formats = [\n",
        "    f\"{full_name} {assistant_speciality}\",\n",
        "    f\"{assistant_speciality} {full_name}\"\n",
        "     ]\n",
        "    return random.choice(formats)\n",
        "\n",
        "# Example usage:\n",
        "random_assistant = generate_assistant()\n",
        "print(\"Randomly generated assistant:\", random_assistant)"
      ],
      "metadata": {
        "colab": {
          "base_uri": "https://localhost:8080/"
        },
        "id": "D75sLmu6te90",
        "outputId": "3353e9d6-7e06-4902-85d9-1d6967af8d1d"
      },
      "execution_count": 44,
      "outputs": [
        {
          "output_type": "stream",
          "name": "stdout",
          "text": [
            "Randomly generated assistant: Paul Dustman Counseling Assistant\n"
          ]
        }
      ]
    },
    {
      "cell_type": "code",
      "source": [
        "def generate_surgeon():\n",
        "    full_name = choose_name()\n",
        "    surgeons = [\n",
        "        \"general surgeon\",\n",
        "        \"orthopedic surgeon\",\n",
        "        \"cardiothoracic surgeon\",\n",
        "        \"neurosurgeon\",\n",
        "        \"plastic surgeon\",\n",
        "        \"vascular surgeon\",\n",
        "        \"urologist\",\n",
        "        \"gynecologic surgeon\",\n",
        "        \"ophthalmic surgeon\",\n",
        "        \"pediatric surgeon\"\n",
        "    ]\n",
        "    surgeon_speciality = random.choice(surgeons)\n",
        "    # Randomly choose a specialist\n",
        "    formats = [\n",
        "    f\"{full_name} {surgeon_speciality}\",\n",
        "    f\"{surgeon_speciality} {full_name}\"\n",
        "     ]\n",
        "    generated_surgeon = random.choice(formats)\n",
        "\n",
        "    return generated_surgeon\n",
        "\n",
        "# Example usage:\n",
        "random_specialty = generate_surgeon()\n",
        "print(\"Randomly selected specialty:\", random_specialty)\n"
      ],
      "metadata": {
        "colab": {
          "base_uri": "https://localhost:8080/"
        },
        "id": "c00cboFBt4lz",
        "outputId": "cf83acf1-ed17-49af-a9c5-79ee1a1d6a9a"
      },
      "execution_count": 45,
      "outputs": [
        {
          "output_type": "stream",
          "name": "stdout",
          "text": [
            "Randomly selected specialty: cardiothoracic surgeon Neal Placido\n"
          ]
        }
      ]
    },
    {
      "cell_type": "code",
      "source": [
        "def generate_nurse_practitioner_name():\n",
        "    # Lists of common first names and last names\n",
        "    first_names = [\"Samantha\", \"Benjamin\", \"Michael\", \"Emily\", \"Christopher\", \"Jennifer\", \"Kevin\", \"Amanda\", \"Mark\", \"Jessica\"]\n",
        "    last_names = [\"Miller\", \"Patel\", \"Johnson\", \"Wong\", \"Martinez\", \"Lee\", \"Davis\", \"Wilson\", \"Thompson\", \"Smith\"]\n",
        "\n",
        "    # Randomly select a first name and last name\n",
        "    first_name = random.choice(first_names)\n",
        "    last_name = random.choice(last_names)\n",
        "\n",
        "    # Randomly select a nurse specialty\n",
        "    nurse_specialties = [\n",
        "        \"Nurse\",\n",
        "        \"Nurse Practitioner\",\n",
        "        \"Midwife\",\n",
        "        \"Nurse Anesthetist\",\n",
        "        \"Clinical Nurse Specialist\",\n",
        "        \"Pediatric Nurse Practitioner\",\n",
        "        \"Primary Care Nurse Practitioner\",\n",
        "        \"Cardiac Nurse Practitioner\",\n",
        "        \"Pediatric Nurse Practitioner\",\n",
        "        \"Ophthalmic Nurse Practitioner\"\n",
        "    ]\n",
        "    specialty = random.choice(nurse_specialties)\n",
        "\n",
        "    # Generate the nurse practitioner name\n",
        "    nurse_practitioner_name = f\"{specialty} {first_name} {last_name}\"\n",
        "\n",
        "    return nurse_practitioner_name\n",
        "\n",
        "# Example usage:\n",
        "random_nurse_practitioner = generate_nurse_practitioner_name()\n",
        "print(\"Randomly generated nurse practitioner name:\", random_nurse_practitioner)"
      ],
      "metadata": {
        "colab": {
          "base_uri": "https://localhost:8080/"
        },
        "id": "6okSem-ot50S",
        "outputId": "0786e9ca-d56d-45f3-ad78-26c7a6dd2395"
      },
      "execution_count": 46,
      "outputs": [
        {
          "output_type": "stream",
          "name": "stdout",
          "text": [
            "Randomly generated nurse practitioner name: Midwife Samantha Miller\n"
          ]
        }
      ]
    },
    {
      "cell_type": "code",
      "source": [
        "def generate_specialist():\n",
        "    full_name = choose_name()\n",
        "    # List of specialist names\n",
        "    specialists = [\n",
        "        \"Cardiologist\",\n",
        "        \"Neurologist\",\n",
        "        \"Oncologist\",\n",
        "        \"Dermatologist\",\n",
        "        \"Endocrinologist\",\n",
        "        \"Gastroenterologist\",\n",
        "        \"Pulmonologist\",\n",
        "        \"Rheumatologist\",\n",
        "        \"Nephrologist\",\n",
        "        \"Ophthalmologist\",\n",
        "        \"Obstetrician-Gynecologist\",\n",
        "        \"Pediatrician\",\n",
        "        \"Urologist\",\n",
        "        \"Psychiatrist\",\n",
        "        \"Pediatric Cardiologist\",\n",
        "        \"Perinatologist\",\n",
        "        \"RADIOLOGY\"\n",
        "        # Add more specialist names as needed\n",
        "    ]\n",
        "\n",
        "    speciality = random.choice(specialists)\n",
        "    # Randomly choose a specialist\n",
        "\n",
        "    formats = [\n",
        "    f\"{full_name} {speciality}\",\n",
        "    f\"{speciality} {full_name}\"\n",
        "     ]\n",
        "    specialist =  random.choice(formats)\n",
        "    return specialist\n",
        "\n",
        "# Example usage\n",
        "print(\"Randomly chosen specialist:\", generate_specialist())\n"
      ],
      "metadata": {
        "colab": {
          "base_uri": "https://localhost:8080/"
        },
        "id": "h35J0qLSuFXh",
        "outputId": "16c36e60-afad-4407-e38a-72321f85b268"
      },
      "execution_count": 47,
      "outputs": [
        {
          "output_type": "stream",
          "name": "stdout",
          "text": [
            "Randomly chosen specialist: Neurologist Richard Guerra\n"
          ]
        }
      ]
    },
    {
      "cell_type": "code",
      "source": [
        "def generate_lab_name():\n",
        "    prefixes = [\"BioMed\", \"OrthoLab\", \"Wellness Pathology\", \"FeminaCare\", \"NeuroGenetics Research\",\n",
        "                \"VisionQuest\", \"CardioScan\", \"OrthoMotion\", \"SmileCheck\", \"CancerGen\"]\n",
        "\n",
        "    suffixes = [\"Diagnostics Center\", \"Solutions\", \"Laboratories\", \"Labs\", \"Research Institute\",\n",
        "                \"Imaging Center\", \"Diagnostics Laboratory\"]\n",
        "\n",
        "    # Randomly select a prefix and suffix to form the lab name\n",
        "    lab_name = random.choice(prefixes) + \" \" + random.choice(suffixes)\n",
        "\n",
        "    return lab_name\n",
        "\n",
        "# Example usage:\n",
        "random_lab_name = generate_lab_name()\n",
        "print(\"Randomly generated laboratory name:\", random_lab_name)\n"
      ],
      "metadata": {
        "colab": {
          "base_uri": "https://localhost:8080/"
        },
        "id": "_GWRR4ZouLK9",
        "outputId": "5eb4cd3b-4272-4e82-8aef-81628511e4cf"
      },
      "execution_count": 48,
      "outputs": [
        {
          "output_type": "stream",
          "name": "stdout",
          "text": [
            "Randomly generated laboratory name: FeminaCare Laboratories\n"
          ]
        }
      ]
    },
    {
      "cell_type": "code",
      "source": [
        "def generate_hospital_name():\n",
        "    prefixes = [\"Mercy\", \"Cedar Ridge\", \"Pinecrest\", \"Sunrise\", \"Maplewood\", \"Riverdale\", \"Hilltop\", \"Haven\", \"Oakwood\", \"Hillside\", \"Willowbrook\", \"Summit\", \"Sunset\", \"Pine Valley\", \"Riverside\"]\n",
        "    suffixes = [\"General Hospital\", \"Medical Center\", \"Neurology Hospital\", \"Cancer Institute\", \"Family Hospital\", \"Women's Clinic\", \"Behavioral Health Hospital\", \"Orthopedic Hospital\", \"Health Center\", \"Sports Medicine Clinic\", \"Surgical Center\", \"Family Clinic\", \"Cancer Care Institute\", \"Clinic\",\"Institute\",\"Center\",\"Associates\"]\n",
        "\n",
        "    hospital_name = f\"{random.choice(prefixes)} {random.choice(suffixes)}\"\n",
        "    return hospital_name\n",
        "\n",
        "# Example usage:\n",
        "random_hospital = generate_hospital_name()\n",
        "print(\"Randomly generated hospital name:\", random_hospital)"
      ],
      "metadata": {
        "colab": {
          "base_uri": "https://localhost:8080/"
        },
        "id": "aGQSg9EguRBc",
        "outputId": "22680bbd-0974-4c89-fbc6-8bef9a45bf13"
      },
      "execution_count": 49,
      "outputs": [
        {
          "output_type": "stream",
          "name": "stdout",
          "text": [
            "Randomly generated hospital name: Haven Behavioral Health Hospital\n"
          ]
        }
      ]
    },
    {
      "cell_type": "code",
      "source": [
        "import random\n",
        "physician_designations = [\n",
        "    \"ordering physician\",\n",
        "    \"attending physician\",\n",
        "    \"consulting physician\",\n",
        "    \"primary care physician\",\n",
        "    \"hospitalist\",\n",
        "    \"intensivist\",\n",
        "    \"internist\",\n",
        "    \"medicine physician\",\n",
        "    \"family_physician\"\n",
        "]\n",
        "\n",
        "def generate_physician_designation():\n",
        "    return random.choice(physician_designations)\n",
        "\n",
        "# Example usage:\n",
        "random_physician_designation = generate_physician_designation()\n",
        "print(\"Randomly selected physician designation:\", random_physician_designation)"
      ],
      "metadata": {
        "colab": {
          "base_uri": "https://localhost:8080/"
        },
        "id": "RflOIEI_u0Mu",
        "outputId": "40cb1f9e-b4d4-41db-c033-72842ac6086b"
      },
      "execution_count": 50,
      "outputs": [
        {
          "output_type": "stream",
          "name": "stdout",
          "text": [
            "Randomly selected physician designation: attending physician\n"
          ]
        }
      ]
    },
    {
      "cell_type": "code",
      "source": [
        "# sample_data\n",
        "template=[\n",
        "    \"{HOSPITAL_NAME} Patient Account# 12345 Patient Name (las)(Firs)(Misdale) Brown, John Patient Address (Street) (City) (State) (ZipCode) Previous or Maiden Name Notify in Case ofE Emergency Patient Social Security Number Employer Name 123-45-6789 Big Company Guarantor Address Same Payer Financial Class Provisional Diagnosis Right Ing Hernia Principal Diagnosis, Secondary Diagnosis and Complications INPATIENT REGISTRATION AND SUMMARY FORM Medical Record# 215043 Admit Date Admit time DateofPrev. Admit {PHYSICIAN} Number and Name {PHYSICIAN_NAME} Birth) Date Patient Type 97 Inp Marital Religion St Hospital Services S 11/12/99 11:10 Patient Phone# 123-123-4567 Comments Donor No Phone Guarantor# # Guarantor Name 27 Cottonwood Ln Anytown USA Age 9/10/44 54 M M Address City/State Relationship Employer City/State Anytown, US John Brown Guarantor Social Security Number Group Name Dischargel Date Disch.\",\n",
        "\n",
        "\"{HOSPITAL_NAME} Anytown, USA Name: John Brown Account No: 12345 {PHYSICIAN} {PHYSICIAN_NAME} Consulting Physician Adm Date: 11/12/1999 DOB: 09/10/44 CONSENT TO TREATMENT CONDITIONS OF ADMISSION AND 1. Consent for Medical and Hospital Care. The undersigned consents to the following: a. All treatment and procedures to be performed during this hospitalization or on an outpatient basis (including emergency treatment or services). The treatment and procedures may include, but are not limited to, laboratory tests, x-ray examination, medical or surgical treatment or procedures, anesthesia, or hospital sèrvices rendered under b. Testing for HIV antibody (AIDS) and/or Hepatitis should the healthcare worker have an accidental exposure to the The disposal of any body parts or tissues removed during hospitalization according to Hospital policy. d. Transfer and transportation to another facility for further care as instructed by the patient's physician. e. Iconsent to have allergies and code status listed on the front of my chart to ensure my safety as a patient. 2. General Risks. The undersigned understands that the practice of medicine and surgery is not an exact science and that diagnosis and treatment may involve risks of injury or even death.\",\n",
        "\n",
        "\"Name: John Brown Account No: 12345 {PHYSICIAN}: {PHYSICIAN_NAME} Consulting Physician Adm Date: 11/12/1999 DOB: 09/10/44 ACTIVE ORDERS DR: THERAPY SUMMARY REPORT GE OF DIAG: ALLERGIES Pesep-leghle NEK MEDICATION S HOME MED INSTRUC 0 SE FTAB 500MG, CEPHALEXIN HCL MONOHYDRATE TAKE EVERY TWELVE HOURS 500MG-1TAB ORAL TAKE ON EMPTY STOMACH-1HR AC OR 2HR PC \",\n",
        "\n",
        "\"Name: John Brown Account No: 12345 {PHYSICIAN} {PHYSICIAN_NAME} Consulting Physician Adm Date: 11/12/1999 DOB: 09/10/44 {HOSPITAL_NAME} DISCHARGE SUMMARY Page 1 of1 1. ADMITTING DIAGNOSIS: DISCHARGE DIAGNOSIS: 1. Same. PROCEDURES PERFORMED: 1. Recurrent right inguinal hernia. Repair ofrecurrent right inguinal hernia. HISTORY AND INDICATIONS FOR ADMISSION: Mr. Brown is a 54-year-old white male who presented with pain to {PHYSICIAN_NAME}. He was transferred to the floor. {PHYSICIAN}, {PHYSICIAN_NAME}, on Monday. D: 11/13/1999 T: 11/16/1999 wms {ASSISTANT_NAME} . R Cc: {PHYSICIAN_NAME} \",\n",
        "\n",
        "\"Name: John Brown Account No: 12345 {PHYSICIAN} {PHYSICIAN_NAME} Consulting Physician Adm Date: 11/12/1999 DOB: 09/10/44 {HOSPITAL_NAME} HISTORY AND PHYSICAL Page 1 of2 REASON FOR ADMISSION: This is a 54 year old male, admitted here for repair of HISTORY OF PRESENT ILLNESS: The patient has had his hernia repaired in the past, elsewhere. Over the past number ofmonths, he has seen this hernia come back and recur, and become larger. It causes discomfort. He is admitted for repair ofa right inguinal right inguinal hernia. hernia. PAST MEDICAL HISTORY: Denies. \",\n",
        "\n",
        "\"Name: John Brown Account No: 12345 {PHYSICIAN}: {PHYSICIAN_NAME} Consulting Physician Adm Date: 11/12/1999 DOB: 09/10/44 {HOSPITAL_NAME} HISTORY AND PHYSICAL Page 2of2 PLAN: Repair right inguinal hernia. D: 11/10/1999 T: 11/10/1999 Isw {PHYSICIAN_NAME} M \",\n",
        "\n",
        "\"{HOSPITAL_NAME} Anytown, USA Name: John Brown Account No: 12345 {PHYSICIAN_NAME} {PHYSICIAN} Consulting Physician Adm Date: 11/12/1999 DOB:09/10/44 PHYSICIAN PROGRESS NOTES DATE/TIME Wr4 NOTES BardeMesh PerFixePlug, Extral Monofilament DANO Large, UKnitted Polypropylene Size: Extra Large Plug REF 01172 LOT 32DKM1 NAME/TITLE BardoMesh PerFixePlug, VOL Monofilament Large, Knitted Polypropylene Size: Large Plug REF 01146 [LOT] 32FDJ2 AM 62-6018-45-0503\",\n",
        "\n",
        "\"{HOSPITAL_NAME} Anytown, USA Name: John Brown Account No: 12345 {PHYSICIAN} {PHYSICIAN_NAME} Consulting Physician Adm Date: 11/12/1999 DOB: 09/10/44 OPERATIVE PROGRESS NOTE DATE/TIME NOTES NAME/TITLE 4/12/94 Surgeon: {SURGEON_NAME} Assistants {ASSISTANT_NAME} Findings: Py hss Anesthesia: General Epidural/Spinal Regional MAC Local , Technical Procedures Ised: ly Leme Mepan Bk Mesk Pclax P44ra4Ay Specimens Removed: hinn <e Postoperative Diagnosis: Srint PREPARED BY: pGMt AUTHORIZED BY:  62-6018-45-0503\",\n",
        "\n",
        "\"{HOSPITAL_NAME} Anytown, USA Name: John Brown Account No: 12345 {PHYSICIAN}: {PHYSICIAN_NAME} Consulting Physician Adm Date: 11/12/1999 DOB:09/10/44 \",\n",
        "\n",
        "\"{HOSPITAL_NAME} Anytown, USA Name: John Brown Account No: 12345 {PHYSICIAN} {PHYSICIAN_NAME} Consulting Physician Adm Date: 11/12/1999 DOB:09/10/44 \",\n",
        "\n",
        "\"Name: John Brown {PHYSICIAN} {PHYSICIAN_NAME} Exam date: 11/10/1999 Radiology Number: 506024 Account Number: 12345 Outpatient TAto be admitted DOB: 09/10/44 {HOSPITAL_NAME} Anytown, USA RADIOLOGY REPORT IMPRESSION: Normal chest. HISTORY: pre-op. Inguinal hernia. Denies chest complaints/SOB. D: T: mls 11/10/1999 11/10/1999 {PHYSICIAN_NAME} {SPECIALIST_NAME}\",\n",
        "\n",
        "\"Name: John Brown Account {PHYSICIAN} No: 12345  {PHYSICIAN_NAME} Consulting Physician Adm Date: 11/12/1999 DOB:09/10/44 {HOSPITAL_NAME} Anytown, USA Surgery Consent Form 1. Ihereby authorize {SURGEON_NAME} and whomever he may designate to perform upon the following procedure: Repair Right ifinal hurnio Gnd IASert Mist Ifurther authorize him/her to do whatever is medically necessary or appropriate to accomplish this 2. The nature, purpose and possible alternative methods of treatment, the risks involved, and the possibilities of complications have been fully explained to me by my surgeon/physician/anesthetist. \",\n",
        "\n",
        "\"{HOSPITAL_NAME} Anytown, USA Name:  Account No: 12345 {PHYSICIAN}: {PHYSICIAN_NAME} Consulting Physician Adm Date: 11/12/1999 DOB: 09/10/44 HEMATOLOGY ATE: IME: BC BC 3B CT CV CH CHC DW LT PV LYMP MON GRAN EOS BASO BS. LYMP BS. MONO BS. GRAN EOS BS. BASO IFF TYPE: AUTOMATED 11/10/99 1620 9.6 5.32 17.4 49.3 92.6 32.7H 35.3 13.1 136 7.6 28.6 : 9.3 52.3 9.1 0.2 2.3 0.9H 5.0 0.9H 0.0 NORMAL. 4.8-10.3 4.7-6.1 MIL.J/uL 14.0-18.0 42-52 30.0-44.0 27.0-31.0 33.0-37.0 11.5-14.5 1.30-400 7.4-10.4 20.5-51.1 1.7-16.0 42.2-75.2 0.0-10.0 0.0-3.0 1.2-3.4 0.11-0.59 too 1.4-6.5 0.0-0.7 0.0-0.2 UAS 1o0.uL 8/0 7 F. PB 5/ 1000/ul. F:. : touMuL tooouL toos/. tooul. COAGULATICN ATE: IME: NR T TT 11/10/99 1620 1.12 11.9 29.2 NORMAL 9.8-12.6 21.5-36.7 SES: UNI SE: \",\n",
        "\n",
        "\"{HOSPITAL_NAME} Anytown, USA Name: John Brown Account No: 12345 {PHYSICIAN} {PHYSICIAN_NAME} Consulting Physician Adm Date: 11/12/1999 DOB: 09/10/44 URINALYSIS ATE: IME: PR LA 3G H RO 3LU ET IL LO VIT JLE JRO 11/10/99 1537 YELLOW CLEAR 1.020 6.0 NEDATIVE NEGATIVE NEGATIVE NEGATIVE NEGATIVE NEGATIVE NEGATIVE 1.0 NORMA UNITS 1.005-1.030 5.0-.0 NES NEU NED MEC NED NELi NETI 0.2-1.0 EU TUMOR MARKERS NG/ML 11/10/99 1620 PSA 1.360 D0--43\",\n",
        "\n",
        "\"{HOSPITAL_NAME} Anytown, USA Name: John Brown {PHYSICIAN}: {PHYSICIAN_NAME} Exam date: 11/10/1999 Radiology Number: 506024 Account Number: 12345 Outpatient TA to be admitted DOB: 09/10/44 {HOSPITAL_NAME} RADIOLOGY REPORT Page 1of1 EXAMINATION DESCRIPTION: Chest PA & Lateral CHEST: the heart is normal in size and configuration. The lung fields are clear bilaterally. The hilar and mediastinal structures appear normal. The thorax is not remarkable. IMPRESSION: Normal chest. HISTORY: pre-op. Inguinal hernia. Denies chest complaints/SOB. D: T: mls 11/10/1999 11/10/1999 {PHYSICIAN_NAME} {SPECIALIST_NAME}\",\n",
        "\n",
        "\"{HOSPITAL_NAME} Anytown, USA Name: John Brown {PHYSICIAN} {PHYSICIAN_NAME} Exam date: 11/12/1999 Radiology Number: 506024 Account Number: 12345 Inpatient: NS/Room/Bed: 2W/238/E B DOB: 09/10/44 {HOSPITAL_NAME} RADIOLOGY REPORT Page 1of1 EXAM: Abdomen KUB portable 1 VW HISTORY: Postoperative. Inguinal hernia. radiopaque foreign bodies are present. Postoperative KUB: Surgical clips project at the right inguinal region. No unexpected D: 11/12/1999 T: 11/12/1999 {SPECIALIST_NAME}\",\n",
        "\n",
        "\"Name: John Brown Account No: 12345 {PHYSICIAN}:- {PHYSICIAN_NAME} Consulting Physician Adm Date: 11/12/1999 DOB:09/10/44 Community General Hospital Anytown, USA Surgery Consent Form 1. I hereby authorize {SURGEON_NAME} and whomever he may designate to perform upon the following procedure: Repair Right Inguinal Hernia and Insert Mesh. I further authorize him/her to do whatever is medically necessary or appropriate to accomplish this. 2. The nature, purpose, and possible alternative methods of treatment, the risks involved, and the possibilities of complications have been fully explained to me by my surgeon/physician/anesthetist. I acknowledge that no guarantee or assurance has been made to me as to the results that may be obtained. 3. I request and consent to the administration of such anesthetics as may be considered necessary. 4. I consent to the disposal of any tissues or parts by proper authorities of {HOSPITAL_NAME}. \",\n",
        "\n",
        "\"{HOSPITAL_NAME} Anytown, USA ANESTHESIA RECORD Name: John Brown Account No: 12345 {PHYSICIAN} {PHYSICIAN_NAME} Consulting Physician Adm Date: 11/12/1999 DOB: 09/10/44 Pre-Op Procedure Date PRE-PROCEDURE Odentified Chart \",\n",
        "\n",
        "\"{HOSPITAL_NAME} Anytown, USA Name: John Brown Account No: 12345 {PHYSICIAN} {PHYSICIAN_NAME} Consulting Physician Adm Date: 11/12/1999 Operation. Inguinal Hernia Date: 11/29/99 Surgeon(s): Anesthetist{SURGEON_NAME} DOB: 09/10/44 KAICARP PARRECORD Time: 0900 Pulse: 75 Resp: 15 Temp: 97.2 O2 Sat: 96% INTAKE IV or Oral: LR-TU AIRWAY: Gown DRESSING: Out OXYGEN: None Route: Flow Heated Airway: Nasal Mask Other: B/P: Prior Incision CAST IMMOBILIZER: Yes  CHG DIS- 22 Consciousness: 2 Color: 2 TOTALS: 9 10 10 Discharge: Home: Via: WICO Ambulatory Accompanied by: Discharge Instructions: Rx: Hospital Room: Via: Bed Car Transfer Report to: IVCredit 600cc to Time: 0920 am command=2 Respirations jaundiced=1 hAaKdg DA Recovery Nurse {NURSE_NAME} 2/R5 Rau 7/05\",\n",
        "\n",
        "\"PAGE1 {HOSPITAL_NAME} Name: John Brown Account No: 12345 {PHYSICIAN} {PHYSICIAN_NAME} Consulting Physician Adm Date: 11/12/1999 DOB: 09/10/44 USA Anytown, O.R. RECORD 1299 ROOMI NUMBER PATIENT TRANSFERRED TOC ORV VIAL PATIENST NROOM 0707 0786 INITIALS PACUIN PACUOUT PROCEDURE OUTO OFF ROOM ANES. ENDED INITIALS H lfgoals not met, see documentation in Nurses! Notes and appropriate peopler notified. \",\n",
        "\n",
        "\"PAGE2of PLAN OF CARE OUTCOME/EVALATION D NOEVIDENCE OF IMPAIRED SKIN INTEGRITY RELATED TOI POSITIONING POSTOPER. folded Relfet pelvis RoamPadv, heefs V bothavn Name: John Brown Account No: 12345 {PHYSICIAN} {PHYSICIAN_NAME} Consulting Physician Adm Date: 11/12/1999 DOB:09/10/44 OUTCOME: PATIENT WILL REMAIN INJURY FREE (Cont.) INITIALS: NOTISSUE REACTION FROMSKIN PREPARATION PROCEDURES  NOALLERGIC OR OTHER UNTOWARD REACTIONS TO THE USE OF OTHER CHEMICAL AGENTS POST-OPER. INITIALS: D SHAVE NO SHAVE BONE-PREOP REMOVE HAIR AROUND INCISIONSITE D POVIDONE SOLUTION PHISOHEX JALCOHOL OOTHER: Doraprepkz PREP SOLUTION: OTHER CHEMICAL AGENTS USED OTHER THAN PREP SOLUTION: THE OPERATIVE SITE MINIMALOF R4 (A) AGENT: (B). AGENT: (C) AGENT: (A) METH. OF APP.: (B) METH. OFA APP.: (Ç METH. OFA APP.: PRE-OPERATIVE 9C DIAGNOSIS: R Mg AUMpCEN POST-OPERATIVE DIAGNOSIS: Sa SURGICAL PROCEDURE: R) ornat AAYERr Bug sotpr SURGEON: E#Mn SURGICAL ASSISTANT {ASSISTANT_NAME} CIRCULATOR: Ji ECKOLRPR RELIEF TAAMWRN IN OUT RELIEF A85 IN our SCRUB: LASER TECH/NURSE: VISITOR: da -A aa C73 SamyloIg ANESTAESOLOGSTIANA {SPECIALIST_NAME} SA IMPLANTS (Place sticker or write here) Manu Devic Size: Extra Large Plug REF 01172 LOT 32DKM1\",\n",
        "\n",
        "\"Name: John Brown Account No: 12345 {PHYSICIAN} {PHYSICIAN_NAME} Consulting Physician Adm Date: 11/12/1999 DOB: 09/10/44 {HOSPITAL_NAME}, Anytown, USA Surgery Consent Form 1. Ihereby authorize {SURGEON_NAME} and whomever she may designate to perform upon the following procedure: Laparoscopic Appendectomy. Ifurther\",\n",
        "\n",
        "\"Name: John Brown Account No: 12345 {PHYSICIAN} {PHYSICIAN_NAME} Consulting Physician Adm Date: 11/12/1999 DOB: 01/12/194 Hospital {HOSPITAL_NAME} OR HOLDING AREA NURSING NOTES 09/10/44 ADDRESSOGRAPH ORF PT. STICKER Time Out 07:60 ALLERGIES:. pA Transported by: 5patau 002@ Accompanied byFamily OFriend 1None Transported via: Stretcher OBed DOther LOC: A Alert/Awake ODrowsy Difficult to arouse 0 Unresponsive Anxious OConfused PRE-OP GIVEN: Time_ 0535 ONo ONIA Anes. Consult: On Chart InH.A. OCalled Consent CompleteiDDate Osignature/Witness DCorrect Procedure History & PhysicalDonChar. D Dictated DOld Chart Diagnostic test complete and on the chart: OOld Chart LAB {LAB_NAME} STANDARD OF CARE: 1. Preoperative Assessment 2. Age Specific Interventions 3. Safety InH.A. 4. Vital Sign Deviations \",\n",
        "\n",
        "\"Date: {HOSPITAL_NAME} Anytown, USA Name: John Brown D.O.Account No: 12345 SS Consulting Physician {PHYSICIAN} {PHYSICIAN_NAME} :- Adm Date: 11/12/1999 DOB: 09/10/44\",\n",
        "\n",
        "\"Name: John Brown {HOSPITAL_NAME} Anytown, USA Account No: 12345 Consulting Physician Adm Date: 11/12/1999 DOB: D.0.B.. {PHYSICIAN} {PHYSICIAN_NAME} \",\n",
        "\n",
        "\"Name: John Brown {HOSPITAL_NAME} DEPARTMENT OF ANESTHESIOLOGY - : PRE-ANESTHETIV QUESTIONNAIRE The following set of questions have been designed for use by the Department of Anesthesia. They are to be completed on the day before your operation. Please answer each question carefully and return the completed sheet to the nurse as soon as possible. To be filled out by patient or for patient by responsible person. Circle below if you have or have ever had. NOTICE! USE BALL POINT PEN ONLY. Name: John Brown Account No: 12345 {PHYSICIAN} {PHYSICIAN_NAME} Consulting Physician Adm Date: 11/12/1999 DOB:09/10/44 \",\n",
        "\n",
        "\"SOUTH GEORGIA CENTER MEDICAL SHIFT ue PER-OPERATIVEPROCEDURE TEACHING RECORD SHIF INIT Name: John Brown Account No: 12345 Attending Physician: {PHYSICIAN_NAME} Consulting Physician \",\n",
        "\n",
        "\"Order Form {LAB_NAME}/4 (if 4-part set) or Order Form {LAB_NAME}/5 (5-part set) PHYSICIAN'S ORDERS NAME HOSP.NO. Name {SURGEON_NAME} Consulting Physician ROOMNO. Account No: 12345 ADDRESS {PHYSICIAN} {PHYSICIAN_NAME}, M.D. PHYSICIAN Adm Date: 11/12/1999 DOB:09/10/44 DIET DIAGNOSIS DRUGALLERGIES Dato aTme AGE WEIGHT SEX Anothe nne aang dentical n fom and content 50 DOI NOTUSE THIS SHEET UNLESSARED NUMBERSHOWS unless checked 4m, hNPO CRC g urine Chust aC/2 S) CMp 7) Prep / PSA X rIy Pyl7 EPD Rieuret V L) poHine + fTT 19 splural or Spinal anslsie W/2/49 PhiseheyPrep Cos .smoe - HoisfAy Day Apedd.e RN patele 0035MEM Wa Jepark Oupwn ubleyplly noml alt 6 bSKrs sgrh Ghapze barn 125 cyhr G fichr + elerh Scrotun 0 Kehab SDomypo 4 9 KuR Carh unbl do void68 hrs - /h Form {LAB_NAME} DesN Moines, IA5 50306 (800)2 247-2343 PLEASE!\",\n",
        "\n",
        "\"Order Order Form Form 1266/4 1266/5 (if (i S-part Apart or PHYSICIAN'S ORDERS NAME {HOSPITAL_NAME}, Name: John Brown ROOMNO, Account No: 12345 Consulting Physician ADDRESS) {PHYSICIAN}-NAME {PHYSICIAN_NAME} PHYSICIAN \",\n",
        "\n",
        "\"Order Form 1266/4 (if Apart set) or Order Form 1266/5 (if S-part set) PHYSICIAN'S ORDERS NAME ADDRESS Name: John Brown ROOMNO. Account No: 12345 Attending Physician {HOSPITAL_NAME}, {PHYSICIAN} {PHYSICIAN_NAME} DIET DIAGNOSIS DRUGALLERGIES Date a Tme AGE WEIGHT SEX PHYSICIAN Adm Date: 11/12/1999 DOB:09/10/44 Anpther brand pfagt identical a for and content may be dapensed unless checked DO NOTUSE THIS SHE UNLESSAI RED NUMBEN SHOWS 13 o DE Han Mon Call 4or Eup Dppt - ndai ETIS Form 1266, Des Moines, IA5 50306 (800)247-2343 PLEASE! PHYSICIAN'S ORDERS NU.SA.\",\n",
        "\n",
        "\"Name:John Brown Account No:  12345 Attending Physician {PHYSICIAN_NAME}, Consulting Physician Adm Date: 11/12/1999 DOB:09/10/44 {HOSPITAL_NAME} 11-11-99- 1-12-99 MEDICATION ADMINISTRATION RECORD ALLERGIES NKA MEDICATION ADMINISTRATION TIMES TIME SITE INITIAL TIME SITE INITIAL \",\n",
        "\n",
        "\"Name:John Brown Attending Physician: Account No:  12345 {PHYSICIAN} {PHYSICIAN_NAME}, Consulting Physician, {HOSPITAL_NAME} Wha/99 - DOB:09/10/44 a/99 MEDICATION ADMINISTRATION RECORD MEDICATION ADMINISTRATION TIMES \"\n",
        "\n",
        "\"Name: John Brown Account No: 12345 {PHYSICIAN} {PHYSICIAN_NAME} Consulting Physician DOB:09/10/44 {HOSPITAL_NAME}\",\n",
        "\n",
        "\"Name: John Brown Account No: 12345 {PHYSICIAN} {PHYSICIAN_NAME} Consulting Physician Adm Date:  11/12/1999 DOB: 09/10/44 {HOSPITAL_NAME} PATIENT ADMISSION ASSESSMENT Date 1/IN44 Time 1600 Admit from: Dr. Office ERSHome Other Health Care Facility:. Reason for Adrission: (Patient's own words). Hechia Surgry Primary Care Physician. 1i {PHYSICIAN_NAME} Previous Health Problems (Patient Only) \",\n",
        "\n",
        "\"Name:  John Brown Account No: 12345 {PHYSICIAN} Consulting Physician {PHYSICIAN_NAME} Adm Date: 11/12/1999 {HOSPITAL_NAME} TRANSITION/DISCHARGE PLANNING ASSESSMENT DOB: 09/10/44 COMMUNITY SERVICES: ON ADMISSION HomelApartment Lives Alone Lives with Family Supervised Living Long Term Care Has.\",\n",
        "\n",
        "\"Name:  John Brown Account No: 12345 {PHYSICIAN_NAME} {PHYSICIAN}: Consulting Physician Adm Date: 11/12/1999 DOB: 09/10/44 {HOSPITAL_NAME} DISCHARGE INSTRUCTION.\",\n",
        "\n",
        "\"24 HOUR NURSING CARE FLOW SHEET DATE: SHIFT Name:  John Brown Account No: 12345 {PHYSICIAN} {PHYSICIAN_NAME} Consulting Physician \",\n",
        "\n",
        "\"Name: John Brown Account No: 12345 Adm Date: Consuling {PHYSICIAN} Physician {PHYSICIAN_NAME} SHIFT SHIFT {NURSE_NAME} NURSE SIGNATURE INIT {NURSE_NAME} NURSE SIGNATURE 11/12/1999 DOB: 09/10/44\",\n",
        "\n",
        "\"24 HOUR NURSING,CARE FLOW SHEET DATE: Wl9 SPACES LEFT BLANK INDICATE CONDITION NÔTAPPLCABIEATTHATI TIME ZCALAE N7V Tadalw Name: John Brown Account No: 12345 {PHYSICIAN} {PHYSICIAN_NAME} Consulting Physician\",\n",
        "\n",
        "\"Account Name: John No: 12345 Brown {PHYSICIAN}: Physician {PHYSICIAN_NAME} Adm Date: 11/12/1999 DOB: 09/10/44 SHIFT INIT {NURSE_NAME} NURSE SIGNATURE SHIFT INIT NURSE SIGNATURE \",\n",
        "\n",
        "\"24 HOUR NURSING CARE FLOW SHEET NOVI 131999 DATE: SHIFT INIT Name: John Brown Account No: 12345 {PHYSICIAN} {PHYSICIAN_NAME} Consulting Physician Adm Date: 11/12/1999 DOB: 09/10/44 SPACES LEFT BLANKI INDICATE CONDITION NOT APPLICABLE AT THAT TIME SHIFT INIT {NURSE_NAME}NURSE SIGNATURE PLCE NURSE SIGNATURE\",\n",
        "\n",
        "\"Name: John Brown Account No: 12345 {PHYSICIAN} {PHYSICIAN_NAME} Consulting Physician Adm Date: 11/12/1999 DOB:09/10/44 SHIFT INIT NURSE SIGNATURE SHIFT INIT {NURSE_NAME} NURSE SIGNATURE \",\n",
        "\n",
        "\"24 HOUR NURSING CARE FLOW SHEET NOVI 131999 DATE: SHIFT INIT Name: John Brown Account No: 12345 {PHYSICIAN_NAME} {PHYSICIAN} Adm Date: 11/12/1999 DOB: 09/10/44 SPACES LEFT BLANKI INDICATE CONDITION NOT APPLICABLE AT THAT TIME SHIFT INIT {NURSE_NAME} NURSE SIGNATURE\",\n",
        "\n",
        "\"Name: John Brown Account No: 12345 {PHYSICIAN} {PHYSICIAN_NAME} Consulting Physician Adm Date: 11/12/1999 DOB:09/10/44 SHIFT INIT {NURSE_NAME} NURSE SIGNATURE\",\n",
        "\n",
        "\"Radiology Report - {HOSPITAL_NAME}, Anytown, USA. Patient: John Brown, Date: 11/10/1999, Radiology ID: 506024, Account: 12345, Ordered by: {PHYSICIAN_NAME}. Description: Chest PA & Lateral - heart, lungs clear, normal mediastinal, thorax not remarkable. Normal chest. Context: Pre-op, inguinal hernia, no SOB. Reporting: {PHYSICIAN_NAME}, {SPECIALIST_NAME}\",\n",
        "\n",
        "\"Examination Report {HOSPITAL_NAME} Anytown, USA, Patient: John Brown, Radiology Number: 506024, Account: 12345, {PHYSICIAN} {PHYSICIAN_NAME}. Exam Date: 11/10/1999, Chest PA & Lateral shows: normal heart size/configuration, clear lungs, normal hilar structures, unremarkable thorax. Normal chest impression. History: inguinal hernia, no chest complaints/SOB. {PHYSICIAN_NAME}, {SPECIALIST_NAME}\",\n",
        "\n",
        "\"Radiology Report - {HOSPITAL_NAME}, Anytown, USA. Patient: John Brown, Date: 11/10/1999, Radiology ID: 506024, Account: 12345, Ordered by: {PHYSICIAN_NAME}. Description: Chest PA & Lateral - heart, lungs clear, normal mediastinal, thorax not remarkable. Normal chest. Context: Pre-op, inguinal hernia, no SOB. Reporting: {PHYSICIAN_NAME}, {SPECIALIST_NAME}\",\n",
        "\n",
        "\"Anytown, USA, {HOSPITAL_NAME} Radiology Department. Patient: John Brown, Exam: 11/10/1999, Doctor {PHYSICIAN_NAME}, Radiology No: 506024, Account: 12345. Details: Chest PA & Lateral, normal heart size, lungs clear, normal hilar and mediastinal structures, thorax normal. Findings: Normal chest. Note: Pre-op inguinal hernia, no reported chest/SOB issues. Physicians: {PHYSICIAN_NAME}, {SPECIALIST_NAME}\",\n",
        "\n",
        "\"11/12/1999 {HOSPITAL_NAME} SHIFT INIT: Patient John Brown, Account: 12345. {PHYSICIAN} {PHYSICIAN_NAME}, Consulting: Physician Recorded. DOB: 09/10/44. Nursing SHIFT INIT: {NURSE_NAME}, PLCE NURSE SIGNATURE. Patient’s condition noted and recorded during shift. No additional notes or changes in status.\",\n",
        "\n",
        "\"{HOSPITAL_NAME} Date: NOVI 131999 Nursing Care Report for John Brown, Account No: 12345. {PHYSICIAN} {PHYSICIAN_NAME}, Adm Date: 11/12/1999. Patient DOB: 09/10/44. SHIFT START: Nurse {NURSE_NAME} signed in. Nursing observations recorded, no critical changes. SHIFT END: Nurse {NURSE_NAME} confirms patient stable.\",\n",
        "\n",
        "\"John Brown's Nursing Flow Sheet, {HOSPITAL_NAME} - Date: 11/13/1999. Account: 12345, Admitting Physician {PHYSICIAN_NAME}. Patient admitted on 11/12/1999, born 09/10/44. Nurse {NURSE_NAME} started shift, monitored patient. No significant findings to report. Nurse {NURSE_NAME} completed shift with signature.\",\n",
        "\n",
        "\"Nursing Shift Record, {HOSPITAL_NAME}, Patient: John Brown, Account: 12345. {PHYSICIAN} {PHYSICIAN_NAME}, DOB: 09/10/44. Admit Date: 11/12/1999. Initial Nursing Shift by {NURSE_NAME}, observations noted, patient stable. End of Shift: Nurse {NURSE_NAME} signed, confirming no critical issues.\",\n",
        "\n",
        "\"Lab Request Form from {LAB_NAME}, either part 4 or 5, for John Brown, HOSP.NO. 12345. Primary care by {PHYSICIAN_NAME}, specialty consult from {SURGEON_NAME}. Admission on 11/12/1999, patient born on 09/10/44. Requires specific diet guidelines and allergy screening. For spinal anesthesia, check latest updates. Ensure form is current version. Contact {LAB_NAME} in Des Moines at (800) 247-2343 for confirmation.\",\n",
        "\n",
        "\"ORDER SHEET: {LAB_NAME}/4 or /5 version. Details for John Brown, Hospital Number 12345, managed by {PHYSICIAN_NAME} with consultant {SURGEON_NAME}. Admitted on November 12, 1999. Date of birth: September 10, 1944. Note: Patient has specific dietary needs and known allergies. Review anesthesia protocols, particularly spinal. Urgent: Validate all entries. Lab Contact: Des Moines, IA, (800) 247-2343.\",\n",
        "\n",
        "\"Physician's Order Form {LAB_NAME}/4 set or {LAB_NAME}/5 set. Patient ID: 12345, Name: John Brown, attending by {PHYSICIAN_NAME}, consulting {SURGEON_NAME}. Admission: 11/12/1999, Born: 09/10/44, Address: Unlisted. Medical needs: Diet adjustment, checks for drug allergies. Pre-op preparations necessary, using EPD technique as per protocol. Contact Des Moines {LAB_NAME} branch for order validation, Ph: (800) 247-2343.\",\n",
        "\n",
        "\"Order Form {LAB_NAME}/4 or {LAB_NAME}/5 for John Brown, HOSP.NO. 12345 in {HOSPITAL_NAME}. {PHYSICIAN} {PHYSICIAN_NAME}, Consulting: {SURGEON_NAME}. Adm: 11/12/1999, DOB: 09/10/44. Conditions: Diet restrictions, known drug allergies noted. DIAGNOSIS: Under review. DO NOT USE THIS SHEET UNLESS NUMBER SHOWS. Memos: PSA prep, spinal anesthesia required. Contact {LAB_NAME}, Des Moines for more info. RN notes apply directly. \",\n",
        "\n",
        "\"{LAB_NAME} Order Form 4/5 - Patient: John Brown, Account 12345, ROOMNO. undefined. {PHYSICIAN}: {PHYSICIAN_NAME}, Consulting: {SURGEON_NAME}, on 11/12/1999. Patient DOB: 09/10/44, Diet specific, Drug Allergies: Yes. Emergency contact required, do not use old forms. For spinal or epidural anesthesia refer to the latest guidelines. Lab Location: Des Moines, IA. Contact (800) 247-2343 for details.\",\n",
        "\n",
        "\"{LAB_NAME} Order Form 4/5 - Patient: John Brown, Account 12345, ROOMNO. undefined. {PHYSICIAN} {PHYSICIAN_NAME}, Consulting {SURGEON_NAME}, on 11/12/1999. Patient DOB: 09/10/44, Diet specific, Drug Allergies: Yes. Emergency contact required, do not use old forms. For spinal or epidural anesthesia refer to the latest guidelines. Lab Location: Des Moines, IA. Contact (800) 247-2343 for details.\",\n",
        "\n",
        "\"John Brown, Account No: 12345, Admitted: 11/12/1999, Surgery: Inguinal Hernia, Surgical Date: 11/29/99, Surgeon: Anesthetist details available in record. DOB: 09/10/44. Operation Record Time: 0900. Monitoring stats: Pulse 75, Resp 15, Temp 97.2, O2 Sat 96%. Medical Interventions: IV LR-TU, Airway managed with nasal mask, no oxygen supplementation. Blood Pressure recorded before incision. Cast applied. Consciousness level noted as 2. Color assessment: 2. Discharged home, ambulatory, with instructions and medication prescriptions. Total IV fluid: 600cc, Recovery updates by Nurse {NURSE_NAME} at time 0920.\",\n",
        "\n",
        "\"Patient ID: John Brown, Account: 12345, Surgery for Inguinal Hernia scheduled for 11/29/99 following admission on 11/12/1999. Date of Birth: 09/10/44. Procedure started at 0900, vital signs recorded as Pulse: 75, Respirations: 15, Temperature: 97.2 F, Oxygen Saturation: 96%. Fluids: Lactated Ringer's initiated, airway secured with a gown, no oxygen administered, airflow via nasal route. Blood pressure taken pre-procedure. Immobilization: Cast applied, condition stable. Discharge: Patient sent home by car, full recovery expected, supervised by Nurse {NURSE_NAME}, next evaluation on 07/05.\",\n",
        "\n",
        "\"Record for John Brown, Acc: 12345. Admitted 11/12/1999 for operation on Inguinal Hernia on 11/29/99. Surgeon and Anesthetist managed the procedure. Birth: 09/10/44. At 0900 hrs: Stats - Pulse 75, Resp 15, Temp 97.2, O2 Sat 96%, IV LR-TU administered, airway status: gown dressing, nasal airway in place, no supplemental O2. B/P checked before incision, cast immobilizer confirmed. Consciousness and color good. Discharge conditions: left hospital walking, detailed home care instructions provided, medications noted, transfer from bed to car arranged, recovery overseen by Nurse {NURSE_NAME}, fluids recorded at 600cc, recovery progress noted.\",\n",
        "\n",
        "\"John Brown's operation details: Account Number 12345, Admission Date: 11/12/1999, Operated on 11/29/99 for Inguinal Hernia. Born on 09/10/44, Time of Operation: 0900. Vital Signs: Pulse 75, Resp 15, Temp 97.2, O2 Saturation 96%. Treatment included IV LR-TU, no oxygen, airway management with a nasal mask. Pre-surgery B/P recorded, cast immobilizer used. Patient's consciousness level was 2, color rated 2. Discharge status: went home via car, all necessary instructions and medications provided. Follow-up by Nurse {NURSE_NAME}, fluid balance maintained at 600cc.\",\n",
        "\n",
        "\"Surgical Record for John Brown, Acc#: 12345, Inguinal Hernia repair on 11/29/99, initial admission on 11/12/1999. DOB: 09/10/44. Time of surgery: 0900. Vitals: Pulse 75, Resp 15, Temp 97.2, O2 96%. Treatment: IV LR-TU, airway setup with nasal mask, gown as dressing, no additional O2 needed. BP prior to incision, immobilization via cast. Conscious level and color stable. Discharged home on foot, driven by family. Instructions for recovery provided, prescriptions noted. Total intake: 600cc, monitored by Nurse {NURSE_NAME}, time of final check: 0920.\",\n",
        "\n",
        "\"Order Form {LAB_NAME}/4 or /5 Series for surgical procedure. Surgeon {SURGEON_NAME}. Patient ID: 12345. Admission Date: 11/12/1999, DOB: 09/10/44. Orders include NPO status, specific diet needs, allergy alerts. Medications: Check compatibility. Pre-op prep includes standard CRC and PSA. Anesthesia: spinal. For any urgent adjustments, contact {LAB_NAME} at (800) 247-2343. Ensure documentation is verified against patient records.\",\n",
        "\n",
        "\"{LAB_NAME} Order Form /5-set. Consulting Surgeon: {SURGEON_NAME}. Patient Acc No: 12345. Admitted on 11/12/1999. Birth Date: 09/10/44. Medical directives include allergy checks, diet restrictions, and urgent CRC guidelines. Preoperative measures require EPD Rieuret and sterile urine collection. Contact {LAB_NAME}, Des Moines for confirmation and record synchronization. Ph: (800) 247-2343.\",\n",
        "\n",
        "\"Prescription and Procedure Order, {LAB_NAME} Form 4/5 parts. Surgeon of record: {SURGEON_NAME}. Patient Account: 12345, Admitted: 11/12/1999, Born: 09/10/44. Note specific dietary requirements and drug allergies. Mandatory pre-op preparations: PSA levels, EPD application. Spinal anesthesia to be administered. For queries, dial {LAB_NAME} support at (800) 247-2343. Confirm form numbers before use.\",\n",
        "\n",
        "\"Surgical Order Sheet for {LAB_NAME}/4 or /5 configuration. Lead Surgeon {SURGEON_NAME}. Account: 12345. Admission on 11/12/1999, DOB: 09/10/44. Ensure diet complies with patient’s known allergies. Prep includes CMp 7, EPD, and spinal block as per protocol. Emergency contacts through {LAB_NAME}, Des Moines, at (800) 247-2343. Documentation must match patient’s historical data.\",\n",
        "\n",
        "\"{LAB_NAME} Comprehensive Order Form /4-5 variants. Directed by Surgeon {SURGEON_NAME}, for patient #12345, admitted 11/12/1999. Birth: 09/10/44. Orders specify no oral intake pre-surgery, allergy review, and specific dietary protocols. Pre-surgical preparations: spinal anesthesia checklist, CRP test, urine analysis. For support, contact {LAB_NAME} helpdesk at (800) 247-2343. Ensure all entries are double-checked for accuracy.\",\n",
        "\n",
        "\"PAGE2of PLAN OF CARE OUTCOME/EVALUATION: John Brown, Account No: 12345, Adm Date: 11/12/1999, DOB: 09/10/44. POST-OP CARE: Maintained skin integrity, no evidence of injury due to positioning. No allergic reactions to skin prep. PRE-OP DETAILS: Shave status: none, Hair removal with Doraprepkz solution. OTHER AGENTS USED: Chemical agent minimal at the operative site, Type R4, detailed application method provided. SURGICAL SUPPORT: {ASSISTANT_NAME} assisted throughout the procedure. Monitoring and safety ensured by Laser Tech/Nurse. {LAB_NAME} provided Extra Large Plug, REF 01172 LOT 32DKM1.\",\n",
        "\n",
        "\"John Brown’s Postoperative Care, Account 12345, Surgery Date: 11/12/1999. OUTCOMES: Skin integrity intact post-surgery, no positioning injuries noted. PREOPERATIVE PREP: No shaving, use of Povidone and Phisohex, alcohol-based cleaning. POST-OP CHEMICALS: Minimal use of agents R4 at surgical site. Specific application methods recorded. OPERATIVE SUPPORT {ASSISTANT_NAME} on-hand, provided necessary assistance. Equipment from {LAB_NAME} used, including implants with specified device size. TECHNICAL SUPPORT: Circulating and scrub roles filled by designated staff.\",\n",
        "\n",
        "\"Outcome Evaluation for John Brown, Account #12345, admitted on 11/12/1999. Skin condition post-operation shows no signs of impairment; reaction free from preoperative preparations. HAIR REMOVAL TECHNIQUE: No shave. CHEMICAL APPLICATION: Doraprepkz used, other chemical agents kept to a minimum. SURGICAL ASSISTANCE: {ASSISTANT_NAME} provided crucial support during surgery. OPERATIVE SUPPLIES: Provided by {LAB_NAME}, including critical implant devices, lot 32DKM1. TECH and NURSE involvement ensured thorough monitoring and application.\",\n",
        "\n",
        "\"Patient John Brown, Acct: 12345, Outcome and Plan of Care, Date: 11/12/1999. INTEGRITY CHECK: Postoperative skin checks reveal no impairments; no untoward reactions to chemical agents used during surgery. SURGICAL PREPARATION: Skin prepared without shaving, using multiple agents including Phisohex. ASSISTANT DETAILS {ASSISTANT_NAME} actively engaged in all surgical stages. MATERIALS USED {LAB_NAME} supplied key surgical devices, including an Extra Large Plug, detailed in REF 01172 LOT 32DKM1. OPERATIVE PERSONNEL: Surgical and anesthesia teams coordinated seamlessly.\",\n",
        "\n",
        "\"Care Plan for Patient ID: 12345, Post-Op Report. OUTCOME: John Brown shows no adverse reactions from surgery conducted on 11/12/1999. No compromised skin integrity post-op. PRE-OP REGIMEN: No hair removal pre-surgery, utilized alcohol and Doraprepkz for cleaning. CHEMICAL USE: Minimum chemical application at surgery site, documented methods for each agent. ASSISTANCE {ASSISTANT_NAME} supported throughout the procedure, ensuring safety and efficacy. EQUIPMENT AND SUPPLIES: All critical surgical implants and materials supplied by {LAB_NAME}, including specifics on implant sizes and types.\",\n",
        "\n",
        "\"John Brown's Radiology Report from {LAB_NAME}. Exam Date: 11/10/1999, Radiology No: 506024, Account No: 12345. Examination involved a Chest PA & Lateral showing: heart normal in size, clear bilateral lung fields, and standard hilar and mediastinal structures. IMPRESSION: Normal chest. No complaints of chest pain or shortness of breath noted pre-op for inguinal hernia. Exam conducted by {SPECIALIST_NAME}, assisted by {ASSISTANT_NAME}.\",\n",
        "\n",
        "\"{LAB_NAME} Radiology Department Report for John Brown. Date: 11/10/1999. Account: 12345, Radiology ID: 506024. Description: Chest PA and Lateral views reveal a normally configured heart, clear lungs, and non-remarkable mediastinal and hilar structures. IMPRESSION: Normal chest, suitable for patient scheduled for inguinal hernia surgery. Radiology Specialist: {SPECIALIST_NAME}, Technical Assistance by: {ASSISTANT_NAME}.\",\n",
        "\n",
        "\"Comprehensive Radiology Report from {LAB_NAME}, Patient: John Brown, Exam: 11/10/1999. Radiology Number: 506024, Account Number: 12345. Findings: Chest PA & Lateral - Heart and lungs appear normal with clear fields. No significant findings. IMPRESSION: Normal chest. History notes no significant chest complaints pre-operatively. Procedure overseen by {SPECIALIST_NAME} with assistance from {ASSISTANT_NAME}.\",\n",
        "\n",
        "\"Diagnostic Imaging Report, {LAB_NAME}, Patient John Brown, Exam on 11/10/1999, Radiology Ticket: 506024. Patient Account: 12345. Outcomes: Chest PA and Lateral scans normal—heart, lungs, and thorax structures present without anomalies. IMPRESSION: Normal thoracic profile. No pre-op chest issues reported for pending inguinal hernia operation.{SPECIALIST_NAME}, Support {ASSISTANT_NAME}.\",\n",
        "\n",
        "\"{LAB_NAME} Medical Imaging Findings for John Brown. Examination Date: 11/10/1999, Radiology Ref: 506024, Account: 12345. Exam Details: Normal size heart and clear lungs observed in Chest PA & Lateral views. No abnormalities in mediastinal or hilar structures. Thorax clear. IMPRESSION: Normal chest. Pre-op evaluation for inguinal hernia surgery, no chest symptoms reported. Reviewed by {SPECIALIST_NAME}, assist  {ASSISTANT_NAME}.\",\n",
        "\n",
        "\"Medical Imaging Summary, {LAB_NAME}. Patient: John Brown, Exam Date: 11/10/1999, Radiology No.: 506024, Account ID: 12345. Results: Chest PA & Lateral scans depict a heart with normal size and structure, lungs are clear, and no abnormalities in the mediastinal or hilar areas. IMPRESSION: No thoracic issues. Pre-operative assessment for inguinal hernia shows no respiratory concerns. Conducted by {SPECIALIST_NAME}, assisted by {ASSISTANT_NAME}.\",\n",
        "\n",
        "\"{LAB_NAME} Radiological Review: Patient John Brown on 11/10/1999, Radiology ID: 506024, Account: 12345. Procedure: Chest PA and Lateral. Findings: Heart structurally normal, lungs clear, mediastinal and hilar structures standard. IMPRESSION: Chest condition normal, prepared for inguinal hernia operation. No reported respiratory difficulties. Radiology conducted by {SPECIALIST_NAME}, with {ASSISTANT_NAME} supporting.\",\n",
        "\n",
        "\"{LAB_NAME} Diagnostic Report for John Brown. Date of Exam: 11/10/1999, Radiology Ticket: 506024, Account Number: 12345. Details: PA & Lateral Chest x-ray shows all clear - normal heart, lungs, and thoracic architecture. IMPRESSION: Healthy chest profile. Checked in preparation for inguinal hernia surgery. Assessment done by {SPECIALIST_NAME}, with procedural support from {ASSISTANT_NAME}.\",\n",
        "\n",
        "\"Radiology Examination Record from {LAB_NAME}, Patient: John Brown, Exam Dated: 11/10/1999. Radiology Confirmation No.: 506024, Patient Account: 12345. Overview: Chest PA & Lateral indicating no abnormalities in heart or lung function, mediastinal and hilar structures are unremarkable. IMPRESSION: Optimal chest health. Evaluation completed as part of pre-op for inguinal hernia, no chest discomfort or shortness of breath noted. Imaging specialist {SPECIALIST_NAME}, Assistant {ASSISTANT_NAME}.\",\n",
        "\n",
        "\"{LAB_NAME} Clinical Imaging Results. Patient: John Brown, Examination Date: 11/10/1999, Radiology No.: 506024, Account: 12345. Observations: Chest PA & Lateral view show a normal cardiac silhouette, lung clarity, and proper alignment of thoracic structures. IMPRESSION: Normal chest imaging findings. These results support the upcoming inguinal hernia surgery, confirming no pulmonary risks. Examination led by {SPECIALIST_NAME}, with support from {ASSISTANT_NAME}.\"\n",
        "\n",
        "\"ORDER FORM: {LAB_NAME}/4 or /5 version. Information for John Brown, Hospital ID 12345, under the care of and consulting with {SURGEON_NAME}. Admission Date: November 12, 1999. Date of Birth: September 10, 1944. Special Instructions: Patient has specific dietary requirements and known allergies. Please review anesthesia protocols, especially regarding spinal procedures. Urgent: Ensure accuracy of all entries. Lab Contact: Des Moines, IA, (800) 247-2343.\",\n",
        "\n",
        "\"Clinical Imaging Results: Patient John Brown underwent Examination Date 11/10/1999, Radiology No. 506024, Account 12345. Observations: Abdominal CT scan reveals normal organ size and morphology, with no signs of inflammation or abnormalities. IMPRESSION: Normal abdominal imaging findings. These results support the upcoming gallbladder removal surgery, confirming no hepatobiliary complications. Examination led by {SPECIALIST_NAME}, with {ASSISTANT_NAME} support.\",\n",
        "\n",
        "\"Diagnostic Imaging Report for Patient John Brown, conducted on 11/10/1999 at {LAB_NAME}, with Radiology Ticket: 506024. Patient Account: 12345. Observations reveal normal chest PA and Lateral scans—heart, lungs, and thorax structures exhibit no anomalies. IMPRESSION: No significant findings in the thoracic profile. Patient's history indicates no pre-op chest issues for the upcoming gallbladder removal surgery. R {SPECIALIST_NAME}, assisted by {ASSISTANT_NAME}.\",\n",
        "\n",
        "\"Medical Imaging Findings for John Brown at {LAB_NAME}. Examination Date: 11/10/1999, Radiology Ref: 12345, Account: 506024. Exam Details: Clear lungs and normal-sized heart observed in Chest PA & Lateral views. No abnormalities in mediastinal or hilar structures. Clear thorax. IMPRESSION: Normal chest. Pre-op evaluation for inguinal hernia surgery, no chest symptoms reported. Reviewed by {ASSISTANT_NAME}, assist: {SPECIALIST_NAME}.\",\n",
        "\n",
        "\"Care Plan for Patient ID: 12345, Post-Op Report. PRE-OP REGIMEN: Utilized alcohol and Doraprepkz for cleaning, no hair removal pre-surgery. EQUIPMENT AND SUPPLIES: All critical surgical implants and materials supplied by {LAB_NAME}, including specifics on implant sizes and types. OUTCOME: John Brown shows no adverse reactions from surgery conducted on 11/12/1999. ASSISTANCE: {ASSISTANT_NAME} supported throughout the procedure, ensuring safety and efficacy. CHEMICAL USE: Minimum chemical application at surgery site, documented methods for each agent. No compromised skin integrity post-op.\",\n",
        "\n",
        "\"Care Plan for Patient ID: 12345, Post-Op Report. ASSISTANCE: {ASSISTANT_NAME} supported throughout the procedure, ensuring safety and efficacy. PRE-OP REGIMEN: No hair removal pre-surgery, utilized alcohol and Doraprepkz for cleaning. EQUIPMENT AND SUPPLIES: All critical surgical implants and materials supplied by {LAB_NAME}, including specifics on implant sizes and types. No compromised skin integrity post-op. CHEMICAL USE: Minimum chemical application at surgery site, documented methods for each agent. OUTCOME: John Brown shows no adverse reactions from surgery conducted on 11/12/1999.\",\n",
        "\n",
        "\"Outcome Evaluation for John Brown, Account #12345, admitted on 11/12/1999. OPERATIVE SUPPLIES: Provided by {LAB_NAME}, including critical implant devices, lot 32DKM1. HAIR REMOVAL TECHNIQUE: No shave. CHEMICAL APPLICATION: Doraprepkz used, other chemical agents kept to a minimum. TECH and NURSE involvement ensured thorough monitoring and application. SURGICAL ASSISTANCE: {ASSISTANT_NAME} provided crucial support during surgery. Skin condition post-operation shows no signs of impairment; reaction free from preoperative preparations.\"\n",
        "\n",
        "]\n",
        "\n",
        "\n",
        "\n",
        "\n",
        "\n",
        "\n",
        "\n",
        "\n",
        "\n",
        "\n",
        "\n"
      ],
      "metadata": {
        "id": "wcBO2zqLuaAK"
      },
      "execution_count": 52,
      "outputs": []
    },
    {
      "cell_type": "code",
      "source": [
        "placeholder={\n",
        "    'PHYSICIAN_NAME':generate_physician_name,\n",
        "    'PHYSICIAN':generate_physician_designation,\n",
        "    'ASSISTANT_NAME':generate_assistant,\n",
        "    'SURGEON_NAME':generate_surgeon,\n",
        "    'NURSE_NAME':generate_nurse_practitioner_name,\n",
        "    'SPECIALIST_NAME':generate_specialist,\n",
        "    'HOSPITAL_NAME':generate_hospital_name,\n",
        "    'LAB_NAME':generate_lab_name\n",
        "}"
      ],
      "metadata": {
        "id": "fNlU6dfHtTLb"
      },
      "execution_count": 53,
      "outputs": []
    },
    {
      "cell_type": "code",
      "source": [
        "import re\n",
        "\n",
        "def replace_placeholders(template, placeholder_to_generator):\n",
        "    updated_text = template\n",
        "    entities = []\n",
        "\n",
        "    # Iterate over each placeholder in the template text\n",
        "    while \"{\" in updated_text:\n",
        "        # Find the next placeholder in the updated text\n",
        "        match = re.search(r\"\\{([^{}]*)\\}\", updated_text)\n",
        "        if not match:\n",
        "            break\n",
        "        placeholder = match.group(1)\n",
        "\n",
        "        # Replace the placeholder with the generated value\n",
        "        fake_value = placeholder_to_generator[placeholder]()\n",
        "        start, end = match.span()\n",
        "        updated_text = updated_text[:start] + fake_value + updated_text[end:]\n",
        "\n",
        "        # # Update the start and end positions for entities\n",
        "        # print(\"Placeholder:\", placeholder)\n",
        "        # print(\"Start:\", start)\n",
        "        # print(\"End:\", start + len(fake_value))\n",
        "        entities.append((start, start + len(fake_value), placeholder))\n",
        "\n",
        "    return updated_text, {\"entities\": entities}"
      ],
      "metadata": {
        "id": "nck-k6o5_eWV"
      },
      "execution_count": 54,
      "outputs": []
    },
    {
      "cell_type": "code",
      "source": [
        "def generate_training_data(placeholder_to_generator, templates, num_samples):\n",
        "    training_data = []\n",
        "\n",
        "    for _ in range(num_samples):\n",
        "        template = random.choice(templates)\n",
        "        updated_text, entities = replace_placeholders(\n",
        "            template, placeholder_to_generator\n",
        "        )\n",
        "        training_data.append((updated_text, entities))\n",
        "\n",
        "    return training_data"
      ],
      "metadata": {
        "id": "goVHQ0tb_lo7"
      },
      "execution_count": 55,
      "outputs": []
    },
    {
      "cell_type": "code",
      "source": [
        "generate_training_data(placeholder,template,5)"
      ],
      "metadata": {
        "colab": {
          "base_uri": "https://localhost:8080/"
        },
        "id": "IiBl74Oy_5GS",
        "outputId": "70f20ef2-26b0-455d-b4e1-8be1725c79d9"
      },
      "execution_count": 56,
      "outputs": [
        {
          "output_type": "execute_result",
          "data": {
            "text/plain": [
              "[('Lab Request Form from Wellness Pathology Research Institute, either part 4 or 5, for John Brown, HOSP.NO. 12345. Primary care by Amanda Smith OD, specialty consult from Levi Hoskins plastic surgeon. Admission on 11/12/1999, patient born on 09/10/44. Requires specific diet guidelines and allergy screening. For spinal anesthesia, check latest updates. Ensure form is current version. Contact SmileCheck Labs in Des Moines at (800) 247-2343 for confirmation.',\n",
              "  {'entities': [(22, 59, 'LAB_NAME'),\n",
              "    (129, 144, 'PHYSICIAN_NAME'),\n",
              "    (169, 197, 'SURGEON_NAME'),\n",
              "    (392, 407, 'LAB_NAME')]}),\n",
              " ('CardioScan Diagnostics Laboratory Medical Imaging Findings for John Brown. Examination Date: 11/10/1999, Radiology Ref: 506024, Account: 12345. Exam Details: Normal size heart and clear lungs observed in Chest PA & Lateral views. No abnormalities in mediastinal or hilar structures. Thorax clear. IMPRESSION: Normal chest. Pre-op evaluation for inguinal hernia surgery, no chest symptoms reported. Reviewed by Cardiologist John Smith, assist  Surgical Assistant Theodore Sinka.',\n",
              "  {'entities': [(0, 33, 'LAB_NAME'),\n",
              "    (410, 433, 'SPECIALIST_NAME'),\n",
              "    (443, 476, 'ASSISTANT_NAME')]}),\n",
              " ('24 HOUR NURSING CARE FLOW SHEET NOVI 131999 DATE: SHIFT INIT Name: John Brown Account No: 12345 Samantha Martinez MBBS medicine physician Adm Date: 11/12/1999 DOB: 09/10/44 SPACES LEFT BLANKI INDICATE CONDITION NOT APPLICABLE AT THAT TIME SHIFT INIT Pediatric Nurse Practitioner Michael Wilson NURSE SIGNATURE',\n",
              "  {'entities': [(96, 118, 'PHYSICIAN_NAME'),\n",
              "    (119, 137, 'PHYSICIAN'),\n",
              "    (250, 293, 'NURSE_NAME')]}),\n",
              " (\"John Brown's operation details: Account Number 12345, Admission Date: 11/12/1999, Operated on 11/29/99 for Inguinal Hernia. Born on 09/10/44, Time of Operation: 0900. Vital Signs: Pulse 75, Resp 15, Temp 97.2, O2 Saturation 96%. Treatment included IV LR-TU, no oxygen, airway management with a nasal mask. Pre-surgery B/P recorded, cast immobilizer used. Patient's consciousness level was 2, color rated 2. Discharge status: went home via car, all necessary instructions and medications provided. Follow-up by Nurse Nurse Jessica Martinez, fluid balance maintained at 600cc.\",\n",
              "  {'entities': [(516, 538, 'NURSE_NAME')]}),\n",
              " ('Sunset Family Clinic Anytown, USA ANESTHESIA RECORD Name: John Brown Account No: 12345 hospitalist DDS Mark Thompson Consulting Physician Adm Date: 11/12/1999 DOB: 09/10/44 Pre-Op Procedure Date PRE-PROCEDURE Odentified Chart ',\n",
              "  {'entities': [(0, 20, 'HOSPITAL_NAME'),\n",
              "    (87, 98, 'PHYSICIAN'),\n",
              "    (99, 116, 'PHYSICIAN_NAME')]})]"
            ]
          },
          "metadata": {},
          "execution_count": 56
        }
      ]
    },
    {
      "cell_type": "code",
      "source": [
        "import os\n",
        "import pickle\n",
        "\n",
        "folder_path=\"training_data\"\n",
        "if not os.path.exists(folder_path):\n",
        "  os.makedirs(folder_path)\n",
        "\n",
        "pickle_file_path=os.path.join(folder_path,\"spacy_training_data.pkl\")\n",
        "\n",
        "training_data=generate_training_data(placeholder,template,5000)\n",
        "\n",
        "with open(pickle_file_path,\"wb\") as file:\n",
        "  pickle.dump(training_data,file)"
      ],
      "metadata": {
        "id": "p1Pnp7SUAauY"
      },
      "execution_count": 58,
      "outputs": []
    },
    {
      "cell_type": "code",
      "source": [
        "! pip install -U spacy"
      ],
      "metadata": {
        "colab": {
          "base_uri": "https://localhost:8080/"
        },
        "id": "iUIy7AbDA0Mm",
        "outputId": "d1b3d32d-0bb0-4ef2-c198-087fd9a0110c"
      },
      "execution_count": 59,
      "outputs": [
        {
          "output_type": "stream",
          "name": "stdout",
          "text": [
            "Requirement already satisfied: spacy in /usr/local/lib/python3.10/dist-packages (3.7.4)\n",
            "Requirement already satisfied: spacy-legacy<3.1.0,>=3.0.11 in /usr/local/lib/python3.10/dist-packages (from spacy) (3.0.12)\n",
            "Requirement already satisfied: spacy-loggers<2.0.0,>=1.0.0 in /usr/local/lib/python3.10/dist-packages (from spacy) (1.0.5)\n",
            "Requirement already satisfied: murmurhash<1.1.0,>=0.28.0 in /usr/local/lib/python3.10/dist-packages (from spacy) (1.0.10)\n",
            "Requirement already satisfied: cymem<2.1.0,>=2.0.2 in /usr/local/lib/python3.10/dist-packages (from spacy) (2.0.8)\n",
            "Requirement already satisfied: preshed<3.1.0,>=3.0.2 in /usr/local/lib/python3.10/dist-packages (from spacy) (3.0.9)\n",
            "Requirement already satisfied: thinc<8.3.0,>=8.2.2 in /usr/local/lib/python3.10/dist-packages (from spacy) (8.2.3)\n",
            "Requirement already satisfied: wasabi<1.2.0,>=0.9.1 in /usr/local/lib/python3.10/dist-packages (from spacy) (1.1.2)\n",
            "Requirement already satisfied: srsly<3.0.0,>=2.4.3 in /usr/local/lib/python3.10/dist-packages (from spacy) (2.4.8)\n",
            "Requirement already satisfied: catalogue<2.1.0,>=2.0.6 in /usr/local/lib/python3.10/dist-packages (from spacy) (2.0.10)\n",
            "Requirement already satisfied: weasel<0.4.0,>=0.1.0 in /usr/local/lib/python3.10/dist-packages (from spacy) (0.3.4)\n",
            "Requirement already satisfied: typer<0.10.0,>=0.3.0 in /usr/local/lib/python3.10/dist-packages (from spacy) (0.9.4)\n",
            "Requirement already satisfied: smart-open<7.0.0,>=5.2.1 in /usr/local/lib/python3.10/dist-packages (from spacy) (6.4.0)\n",
            "Requirement already satisfied: tqdm<5.0.0,>=4.38.0 in /usr/local/lib/python3.10/dist-packages (from spacy) (4.66.2)\n",
            "Requirement already satisfied: requests<3.0.0,>=2.13.0 in /usr/local/lib/python3.10/dist-packages (from spacy) (2.31.0)\n",
            "Requirement already satisfied: pydantic!=1.8,!=1.8.1,<3.0.0,>=1.7.4 in /usr/local/lib/python3.10/dist-packages (from spacy) (2.7.0)\n",
            "Requirement already satisfied: jinja2 in /usr/local/lib/python3.10/dist-packages (from spacy) (3.1.3)\n",
            "Requirement already satisfied: setuptools in /usr/local/lib/python3.10/dist-packages (from spacy) (67.7.2)\n",
            "Requirement already satisfied: packaging>=20.0 in /usr/local/lib/python3.10/dist-packages (from spacy) (24.0)\n",
            "Requirement already satisfied: langcodes<4.0.0,>=3.2.0 in /usr/local/lib/python3.10/dist-packages (from spacy) (3.3.0)\n",
            "Requirement already satisfied: numpy>=1.19.0 in /usr/local/lib/python3.10/dist-packages (from spacy) (1.25.2)\n",
            "Requirement already satisfied: annotated-types>=0.4.0 in /usr/local/lib/python3.10/dist-packages (from pydantic!=1.8,!=1.8.1,<3.0.0,>=1.7.4->spacy) (0.6.0)\n",
            "Requirement already satisfied: pydantic-core==2.18.1 in /usr/local/lib/python3.10/dist-packages (from pydantic!=1.8,!=1.8.1,<3.0.0,>=1.7.4->spacy) (2.18.1)\n",
            "Requirement already satisfied: typing-extensions>=4.6.1 in /usr/local/lib/python3.10/dist-packages (from pydantic!=1.8,!=1.8.1,<3.0.0,>=1.7.4->spacy) (4.11.0)\n",
            "Requirement already satisfied: charset-normalizer<4,>=2 in /usr/local/lib/python3.10/dist-packages (from requests<3.0.0,>=2.13.0->spacy) (3.3.2)\n",
            "Requirement already satisfied: idna<4,>=2.5 in /usr/local/lib/python3.10/dist-packages (from requests<3.0.0,>=2.13.0->spacy) (3.7)\n",
            "Requirement already satisfied: urllib3<3,>=1.21.1 in /usr/local/lib/python3.10/dist-packages (from requests<3.0.0,>=2.13.0->spacy) (2.0.7)\n",
            "Requirement already satisfied: certifi>=2017.4.17 in /usr/local/lib/python3.10/dist-packages (from requests<3.0.0,>=2.13.0->spacy) (2024.2.2)\n",
            "Requirement already satisfied: blis<0.8.0,>=0.7.8 in /usr/local/lib/python3.10/dist-packages (from thinc<8.3.0,>=8.2.2->spacy) (0.7.11)\n",
            "Requirement already satisfied: confection<1.0.0,>=0.0.1 in /usr/local/lib/python3.10/dist-packages (from thinc<8.3.0,>=8.2.2->spacy) (0.1.4)\n",
            "Requirement already satisfied: click<9.0.0,>=7.1.1 in /usr/local/lib/python3.10/dist-packages (from typer<0.10.0,>=0.3.0->spacy) (8.1.7)\n",
            "Requirement already satisfied: cloudpathlib<0.17.0,>=0.7.0 in /usr/local/lib/python3.10/dist-packages (from weasel<0.4.0,>=0.1.0->spacy) (0.16.0)\n",
            "Requirement already satisfied: MarkupSafe>=2.0 in /usr/local/lib/python3.10/dist-packages (from jinja2->spacy) (2.1.5)\n"
          ]
        }
      ]
    },
    {
      "cell_type": "code",
      "source": [
        "!python -m spacy download en_core_web_lg"
      ],
      "metadata": {
        "colab": {
          "base_uri": "https://localhost:8080/"
        },
        "id": "_xneRdR5A5gZ",
        "outputId": "1847df5e-ea17-4aca-8e92-70ef3eec52b6"
      },
      "execution_count": 60,
      "outputs": [
        {
          "output_type": "stream",
          "name": "stdout",
          "text": [
            "Collecting en-core-web-lg==3.7.1\n",
            "  Downloading https://github.com/explosion/spacy-models/releases/download/en_core_web_lg-3.7.1/en_core_web_lg-3.7.1-py3-none-any.whl (587.7 MB)\n",
            "\u001b[2K     \u001b[90m━━━━━━━━━━━━━━━━━━━━━━━━━━━━━━━━━━━━━━━━\u001b[0m \u001b[32m587.7/587.7 MB\u001b[0m \u001b[31m1.6 MB/s\u001b[0m eta \u001b[36m0:00:00\u001b[0m\n",
            "\u001b[?25hRequirement already satisfied: spacy<3.8.0,>=3.7.2 in /usr/local/lib/python3.10/dist-packages (from en-core-web-lg==3.7.1) (3.7.4)\n",
            "Requirement already satisfied: spacy-legacy<3.1.0,>=3.0.11 in /usr/local/lib/python3.10/dist-packages (from spacy<3.8.0,>=3.7.2->en-core-web-lg==3.7.1) (3.0.12)\n",
            "Requirement already satisfied: spacy-loggers<2.0.0,>=1.0.0 in /usr/local/lib/python3.10/dist-packages (from spacy<3.8.0,>=3.7.2->en-core-web-lg==3.7.1) (1.0.5)\n",
            "Requirement already satisfied: murmurhash<1.1.0,>=0.28.0 in /usr/local/lib/python3.10/dist-packages (from spacy<3.8.0,>=3.7.2->en-core-web-lg==3.7.1) (1.0.10)\n",
            "Requirement already satisfied: cymem<2.1.0,>=2.0.2 in /usr/local/lib/python3.10/dist-packages (from spacy<3.8.0,>=3.7.2->en-core-web-lg==3.7.1) (2.0.8)\n",
            "Requirement already satisfied: preshed<3.1.0,>=3.0.2 in /usr/local/lib/python3.10/dist-packages (from spacy<3.8.0,>=3.7.2->en-core-web-lg==3.7.1) (3.0.9)\n",
            "Requirement already satisfied: thinc<8.3.0,>=8.2.2 in /usr/local/lib/python3.10/dist-packages (from spacy<3.8.0,>=3.7.2->en-core-web-lg==3.7.1) (8.2.3)\n",
            "Requirement already satisfied: wasabi<1.2.0,>=0.9.1 in /usr/local/lib/python3.10/dist-packages (from spacy<3.8.0,>=3.7.2->en-core-web-lg==3.7.1) (1.1.2)\n",
            "Requirement already satisfied: srsly<3.0.0,>=2.4.3 in /usr/local/lib/python3.10/dist-packages (from spacy<3.8.0,>=3.7.2->en-core-web-lg==3.7.1) (2.4.8)\n",
            "Requirement already satisfied: catalogue<2.1.0,>=2.0.6 in /usr/local/lib/python3.10/dist-packages (from spacy<3.8.0,>=3.7.2->en-core-web-lg==3.7.1) (2.0.10)\n",
            "Requirement already satisfied: weasel<0.4.0,>=0.1.0 in /usr/local/lib/python3.10/dist-packages (from spacy<3.8.0,>=3.7.2->en-core-web-lg==3.7.1) (0.3.4)\n",
            "Requirement already satisfied: typer<0.10.0,>=0.3.0 in /usr/local/lib/python3.10/dist-packages (from spacy<3.8.0,>=3.7.2->en-core-web-lg==3.7.1) (0.9.4)\n",
            "Requirement already satisfied: smart-open<7.0.0,>=5.2.1 in /usr/local/lib/python3.10/dist-packages (from spacy<3.8.0,>=3.7.2->en-core-web-lg==3.7.1) (6.4.0)\n",
            "Requirement already satisfied: tqdm<5.0.0,>=4.38.0 in /usr/local/lib/python3.10/dist-packages (from spacy<3.8.0,>=3.7.2->en-core-web-lg==3.7.1) (4.66.2)\n",
            "Requirement already satisfied: requests<3.0.0,>=2.13.0 in /usr/local/lib/python3.10/dist-packages (from spacy<3.8.0,>=3.7.2->en-core-web-lg==3.7.1) (2.31.0)\n",
            "Requirement already satisfied: pydantic!=1.8,!=1.8.1,<3.0.0,>=1.7.4 in /usr/local/lib/python3.10/dist-packages (from spacy<3.8.0,>=3.7.2->en-core-web-lg==3.7.1) (2.7.0)\n",
            "Requirement already satisfied: jinja2 in /usr/local/lib/python3.10/dist-packages (from spacy<3.8.0,>=3.7.2->en-core-web-lg==3.7.1) (3.1.3)\n",
            "Requirement already satisfied: setuptools in /usr/local/lib/python3.10/dist-packages (from spacy<3.8.0,>=3.7.2->en-core-web-lg==3.7.1) (67.7.2)\n",
            "Requirement already satisfied: packaging>=20.0 in /usr/local/lib/python3.10/dist-packages (from spacy<3.8.0,>=3.7.2->en-core-web-lg==3.7.1) (24.0)\n",
            "Requirement already satisfied: langcodes<4.0.0,>=3.2.0 in /usr/local/lib/python3.10/dist-packages (from spacy<3.8.0,>=3.7.2->en-core-web-lg==3.7.1) (3.3.0)\n",
            "Requirement already satisfied: numpy>=1.19.0 in /usr/local/lib/python3.10/dist-packages (from spacy<3.8.0,>=3.7.2->en-core-web-lg==3.7.1) (1.25.2)\n",
            "Requirement already satisfied: annotated-types>=0.4.0 in /usr/local/lib/python3.10/dist-packages (from pydantic!=1.8,!=1.8.1,<3.0.0,>=1.7.4->spacy<3.8.0,>=3.7.2->en-core-web-lg==3.7.1) (0.6.0)\n",
            "Requirement already satisfied: pydantic-core==2.18.1 in /usr/local/lib/python3.10/dist-packages (from pydantic!=1.8,!=1.8.1,<3.0.0,>=1.7.4->spacy<3.8.0,>=3.7.2->en-core-web-lg==3.7.1) (2.18.1)\n",
            "Requirement already satisfied: typing-extensions>=4.6.1 in /usr/local/lib/python3.10/dist-packages (from pydantic!=1.8,!=1.8.1,<3.0.0,>=1.7.4->spacy<3.8.0,>=3.7.2->en-core-web-lg==3.7.1) (4.11.0)\n",
            "Requirement already satisfied: charset-normalizer<4,>=2 in /usr/local/lib/python3.10/dist-packages (from requests<3.0.0,>=2.13.0->spacy<3.8.0,>=3.7.2->en-core-web-lg==3.7.1) (3.3.2)\n",
            "Requirement already satisfied: idna<4,>=2.5 in /usr/local/lib/python3.10/dist-packages (from requests<3.0.0,>=2.13.0->spacy<3.8.0,>=3.7.2->en-core-web-lg==3.7.1) (3.7)\n",
            "Requirement already satisfied: urllib3<3,>=1.21.1 in /usr/local/lib/python3.10/dist-packages (from requests<3.0.0,>=2.13.0->spacy<3.8.0,>=3.7.2->en-core-web-lg==3.7.1) (2.0.7)\n",
            "Requirement already satisfied: certifi>=2017.4.17 in /usr/local/lib/python3.10/dist-packages (from requests<3.0.0,>=2.13.0->spacy<3.8.0,>=3.7.2->en-core-web-lg==3.7.1) (2024.2.2)\n",
            "Requirement already satisfied: blis<0.8.0,>=0.7.8 in /usr/local/lib/python3.10/dist-packages (from thinc<8.3.0,>=8.2.2->spacy<3.8.0,>=3.7.2->en-core-web-lg==3.7.1) (0.7.11)\n",
            "Requirement already satisfied: confection<1.0.0,>=0.0.1 in /usr/local/lib/python3.10/dist-packages (from thinc<8.3.0,>=8.2.2->spacy<3.8.0,>=3.7.2->en-core-web-lg==3.7.1) (0.1.4)\n",
            "Requirement already satisfied: click<9.0.0,>=7.1.1 in /usr/local/lib/python3.10/dist-packages (from typer<0.10.0,>=0.3.0->spacy<3.8.0,>=3.7.2->en-core-web-lg==3.7.1) (8.1.7)\n",
            "Requirement already satisfied: cloudpathlib<0.17.0,>=0.7.0 in /usr/local/lib/python3.10/dist-packages (from weasel<0.4.0,>=0.1.0->spacy<3.8.0,>=3.7.2->en-core-web-lg==3.7.1) (0.16.0)\n",
            "Requirement already satisfied: MarkupSafe>=2.0 in /usr/local/lib/python3.10/dist-packages (from jinja2->spacy<3.8.0,>=3.7.2->en-core-web-lg==3.7.1) (2.1.5)\n",
            "Installing collected packages: en-core-web-lg\n",
            "Successfully installed en-core-web-lg-3.7.1\n",
            "\u001b[38;5;2m✔ Download and installation successful\u001b[0m\n",
            "You can now load the package via spacy.load('en_core_web_lg')\n",
            "\u001b[38;5;3m⚠ Restart to reload dependencies\u001b[0m\n",
            "If you are in a Jupyter or Colab notebook, you may need to restart Python in\n",
            "order to load all the package's dependencies. You can do this by selecting the\n",
            "'Restart kernel' or 'Restart runtime' option.\n"
          ]
        }
      ]
    },
    {
      "cell_type": "code",
      "source": [
        "import spacy\n",
        "from spacy.tokens import DocBin\n",
        "import random\n",
        "\n",
        "nlp=spacy.load(\"en_core_web_lg\")\n",
        "with open ('./training_data/spacy_training_data.pkl','rb') as file:\n",
        "  data=pickle.load(file)\n",
        "\n",
        "# Shuffle the data\n",
        "random.shuffle(data)\n",
        "\n",
        "#split the data into 80% training and 20% testing\n",
        "split_ratio=int(len(data)*0.8)\n",
        "\n",
        "train_data=data[:split_ratio]\n",
        "test_data=data[split_ratio:]\n",
        "\n",
        "print(\"length of training_data\",len(train_data))\n",
        "print(\"length of test_data\",len(test_data))\n",
        "\n",
        "db = DocBin()\n",
        "for sample in train_data:\n",
        "    doc = nlp(sample[0])\n",
        "    entities = []\n",
        "    for start, end, label in sample[1][\"entities\"]:\n",
        "        span = doc.char_span(start, end, label=label)\n",
        "        if span is not None:\n",
        "            entities.append(span)\n",
        "    doc.ents = entities\n",
        "    db.add(doc)\n",
        "db.to_disk(\"./training_data/train.spacy\")\n",
        "print(\"Training data prepared\")\n",
        "# the DocBin will store the example documents --test\n",
        "db_test = DocBin()\n",
        "for sample in test_data:\n",
        "    doc = nlp(sample[0])\n",
        "    entities = []\n",
        "    for start, end, label in sample[1][\"entities\"]:\n",
        "        span = doc.char_span(start, end, label=label)\n",
        "        if span is not None:\n",
        "            entities.append(span)\n",
        "    doc.ents = entities\n",
        "    db_test.add(doc)\n",
        "db_test.to_disk(\"./training_data/test.spacy\")\n",
        "print(\"Testing data prepared\")\n",
        "\n",
        "print(\"Preprocessing done\")"
      ],
      "metadata": {
        "colab": {
          "base_uri": "https://localhost:8080/"
        },
        "id": "HX8m4XKvBfwF",
        "outputId": "6e40cefe-442b-48ec-dbeb-3ec4af8884d4"
      },
      "execution_count": 61,
      "outputs": [
        {
          "output_type": "stream",
          "name": "stdout",
          "text": [
            "length of training_data 4000\n",
            "length of test_data 1000\n",
            "Training data prepared\n",
            "Testing data prepared\n",
            "Preprocessing done\n"
          ]
        }
      ]
    },
    {
      "cell_type": "code",
      "source": [
        "!python -m spacy init fill-config base_config.cfg config.cfg"
      ],
      "metadata": {
        "colab": {
          "base_uri": "https://localhost:8080/"
        },
        "id": "ipyltD1UCWyU",
        "outputId": "e44217c6-5d6e-4933-b36a-4d426b8f1ab7"
      },
      "execution_count": 62,
      "outputs": [
        {
          "output_type": "stream",
          "name": "stdout",
          "text": [
            "\u001b[38;5;2m✔ Auto-filled config with all values\u001b[0m\n",
            "\u001b[38;5;2m✔ Saved config\u001b[0m\n",
            "config.cfg\n",
            "You can now add your data and train your pipeline:\n",
            "python -m spacy train config.cfg --paths.train ./train.spacy --paths.dev ./dev.spacy\n"
          ]
        }
      ]
    },
    {
      "cell_type": "code",
      "source": [
        "!python -m spacy train config.cfg --output ./output --paths.train ./training_data/train.spacy --paths.dev ./training_data/test.spacy"
      ],
      "metadata": {
        "colab": {
          "base_uri": "https://localhost:8080/"
        },
        "id": "RimnB_ZMCack",
        "outputId": "50f2be11-cd2a-4ff2-d459-5b77c7b0564e"
      },
      "execution_count": 63,
      "outputs": [
        {
          "output_type": "stream",
          "name": "stdout",
          "text": [
            "\u001b[38;5;2m✔ Created output directory: output\u001b[0m\n",
            "\u001b[38;5;4mℹ Saving to output directory: output\u001b[0m\n",
            "\u001b[38;5;4mℹ Using CPU\u001b[0m\n",
            "\u001b[1m\n",
            "=========================== Initializing pipeline ===========================\u001b[0m\n",
            "\u001b[38;5;2m✔ Initialized pipeline\u001b[0m\n",
            "\u001b[1m\n",
            "============================= Training pipeline =============================\u001b[0m\n",
            "\u001b[38;5;4mℹ Pipeline: ['tok2vec', 'ner']\u001b[0m\n",
            "\u001b[38;5;4mℹ Initial learn rate: 0.001\u001b[0m\n",
            "E    #       LOSS TOK2VEC  LOSS NER  ENTS_F  ENTS_P  ENTS_R  SCORE \n",
            "---  ------  ------------  --------  ------  ------  ------  ------\n",
            "  0       0          0.00     40.71    0.00    0.00    0.00    0.00\n",
            "  0     200        671.99   2350.64   28.54   32.40   25.50    0.29\n",
            "  0     400        684.52   1766.35   84.60   85.10   84.10    0.85\n",
            "  0     600         83.04    583.24   91.94   92.49   91.39    0.92\n",
            "  0     800         60.35    331.36   88.97   90.78   87.23    0.89\n",
            "  0    1000         63.64    244.49   97.89   97.58   98.21    0.98\n",
            "  0    1200        145.54    328.58   93.46   94.36   92.58    0.93\n",
            "  0    1400       1038.23    301.91   99.11   98.85   99.36    0.99\n",
            "  0    1600         34.16     73.21   99.81   99.68   99.94    1.00\n",
            "  1    1800         72.08    105.54   99.78   99.65   99.90    1.00\n",
            "  1    2000         13.79     23.35   99.97   99.97   99.97    1.00\n",
            "  1    2200        142.87    105.27   92.70   92.59   92.80    0.93\n",
            "  2    2400         87.31     85.98   99.74   99.71   99.78    1.00\n",
            "  3    2600        100.54     85.86   99.97   99.94  100.00    1.00\n",
            "  3    2800         33.21     30.85  100.00  100.00  100.00    1.00\n",
            "  4    3000         34.75     16.15  100.00  100.00  100.00    1.00\n",
            "  4    3200         40.11     24.59   99.84   99.84   99.84    1.00\n",
            "  5    3400        395.28    108.96   99.97   99.94  100.00    1.00\n",
            "  5    3600        129.19     36.66   99.95   99.97   99.94    1.00\n",
            "  6    3800         40.33     21.77  100.00  100.00  100.00    1.00\n",
            "  6    4000         15.09     11.59  100.00  100.00  100.00    1.00\n",
            "  7    4200         15.57      8.96  100.00  100.00  100.00    1.00\n",
            "  7    4400         33.20     12.68   99.76   99.71   99.81    1.00\n",
            "\u001b[38;5;2m✔ Saved pipeline to output directory\u001b[0m\n",
            "output/model-last\n"
          ]
        }
      ]
    },
    {
      "cell_type": "code",
      "source": [
        "!python -m spacy evaluate ./output/model-best/ ./training_data/test.spacy"
      ],
      "metadata": {
        "colab": {
          "base_uri": "https://localhost:8080/"
        },
        "id": "hycDOEDqQEJV",
        "outputId": "d345fd95-453d-4907-e147-6bcead46f124"
      },
      "execution_count": 64,
      "outputs": [
        {
          "output_type": "stream",
          "name": "stdout",
          "text": [
            "\u001b[38;5;4mℹ Using CPU\u001b[0m\n",
            "\u001b[1m\n",
            "================================== Results ==================================\u001b[0m\n",
            "\n",
            "TOK     100.00\n",
            "NER P   100.00\n",
            "NER R   100.00\n",
            "NER F   100.00\n",
            "SPEED   3313  \n",
            "\n",
            "\u001b[1m\n",
            "=============================== NER (per type) ===============================\u001b[0m\n",
            "\n",
            "                       P        R        F\n",
            "HOSPITAL_NAME     100.00   100.00   100.00\n",
            "PHYSICIAN         100.00   100.00   100.00\n",
            "PHYSICIAN_NAME    100.00   100.00   100.00\n",
            "SPECIALIST_NAME   100.00   100.00   100.00\n",
            "NURSE_NAME        100.00   100.00   100.00\n",
            "LAB_NAME          100.00   100.00   100.00\n",
            "ASSISTANT_NAME    100.00   100.00   100.00\n",
            "SURGEON_NAME      100.00   100.00   100.00\n",
            "\n"
          ]
        }
      ]
    },
    {
      "cell_type": "code",
      "source": [
        "import os\n",
        "output_dir=\"/content/model-last\"\n",
        "if not os.path.exists(output_dir):\n",
        "  os.makedirs(output_dir)\n",
        "\n",
        "nlp.to_disk(output_dir)\n",
        "\n",
        "print(\"Model saved succesfully to :\", output_dir)"
      ],
      "metadata": {
        "colab": {
          "base_uri": "https://localhost:8080/"
        },
        "id": "5VHvrrmrQGmq",
        "outputId": "0f6bb834-0dcd-49b1-bd5a-c286087afcd9"
      },
      "execution_count": 65,
      "outputs": [
        {
          "output_type": "stream",
          "name": "stdout",
          "text": [
            "Model saved succesfully to : /content/model-last\n"
          ]
        }
      ]
    },
    {
      "cell_type": "code",
      "source": [
        "from spacy import displacy"
      ],
      "metadata": {
        "id": "XIpzfe1cRI_D"
      },
      "execution_count": 66,
      "outputs": []
    },
    {
      "cell_type": "code",
      "source": [
        "nlp = spacy.load(\"./output/model-last/\")\n",
        "\n",
        "if not nlp:\n",
        "    print(\"Model is not loaded...\")\n",
        "else:\n",
        "    text_list = [\"Community General Hospital Patient Account# 12345 Patient Name (las)(Firs)(Misdale) Brown, John Patient Address (Street) (City) (State) (ZipCode) Previous or Maiden Name Notify in Case ofE Emergency Patient Social Security Number Employer Name 123-45-6789 Big Company Guarantor Address Same Payer Financial Class Provisional Diagnosis Right Ing Hernia Principal Diagnosis, Secondary Diagnosis and Complications INPATIENT REGISTRATION AND SUMMARY FORM Medical Record# 215043 Admit Date Admit time DateofPrev. Admit Attending Physician Number and Name Jeff T. Moore Birth) Date Patient Type 97 Inp Marital Religion St Hospital Services S 11/12/99 11:10 Patient Phone# 123-123-4567 Comments Donor No Phone Guarantor# # Guarantor Name 27 Cottonwood Ln Anytown USA Age 9/10/44 54 M M Address City/State Relationship Employer City/State Anytown, US John Brown Guarantor Social Security Number Group Name Dischargel Date Disch. Time 11/13/99/11:30 Policy Number 123456789 Insured'sName John Brown Southern Company Admitted By AD12 Patient Weight 550, 91 3144 Principall Procedures and Secondary Procedures 53.03 633 49530 1-12 More Consuitations Dispgsition ofCase < Home Expired Transferred to: Coder kp Date Swing Bed Autopsy Supervised Living AMA D Home Health Nursing Home Icertify that the narrative description oft the principal and secondary diagnoses and the major proçedures performed are accurate and complete to the best ofr my knowledge. Attending Physician Date\"\n",
        "]\n",
        "    for text in text_list:\n",
        "      doc = nlp(text)\n",
        "      for ent in doc.ents:\n",
        "          displacy.render(doc, style=\"ent\", jupyter=True)\n",
        "          #print(f\"Word -> {ent.text} -------- Label -> {ent.label_}\")"
      ],
      "metadata": {
        "colab": {
          "base_uri": "https://localhost:8080/",
          "height": 962
        },
        "id": "60ay3CtvRME_",
        "outputId": "9de83fdf-fe07-4c0e-d7d5-d0f1a632c8b2"
      },
      "execution_count": 91,
      "outputs": [
        {
          "output_type": "display_data",
          "data": {
            "text/plain": [
              "<IPython.core.display.HTML object>"
            ],
            "text/html": [
              "<span class=\"tex2jax_ignore\"><div class=\"entities\" style=\"line-height: 2.5; direction: ltr\">Community General Hospital Patient Account# 12345 Patient Name (las)(Firs)(Misdale) Brown, John Patient Address (Street) (City) (State) (ZipCode) Previous or Maiden Name Notify in Case ofE Emergency Patient Social Security Number Employer Name 123-45-6789 Big Company Guarantor Address Same Payer Financial Class Provisional Diagnosis Right Ing Hernia Principal Diagnosis, Secondary Diagnosis and Complications INPATIENT REGISTRATION AND SUMMARY FORM Medical Record# 215043 Admit Date Admit time DateofPrev. Admit Attending Physician Number and Name \n",
              "<mark class=\"entity\" style=\"background: #ddd; padding: 0.45em 0.6em; margin: 0 0.25em; line-height: 1; border-radius: 0.35em;\">\n",
              "    Jeff T. Moore\n",
              "    <span style=\"font-size: 0.8em; font-weight: bold; line-height: 1; border-radius: 0.35em; vertical-align: middle; margin-left: 0.5rem\">PHYSICIAN_NAME</span>\n",
              "</mark>\n",
              " Birth) Date Patient Type 97 Inp Marital Religion St Hospital Services S 11/12/99 11:10 Patient Phone# 123-123-4567 Comments Donor No Phone Guarantor# # Guarantor Name 27 Cottonwood Ln Anytown USA Age 9/10/44 54 M M Address City/State Relationship Employer City/State Anytown, US John Brown Guarantor Social Security Number Group Name Dischargel Date Disch. Time 11/13/99/11:30 Policy Number 123456789 Insured'sName \n",
              "<mark class=\"entity\" style=\"background: #ddd; padding: 0.45em 0.6em; margin: 0 0.25em; line-height: 1; border-radius: 0.35em;\">\n",
              "    John Brown Southern Company\n",
              "    <span style=\"font-size: 0.8em; font-weight: bold; line-height: 1; border-radius: 0.35em; vertical-align: middle; margin-left: 0.5rem\">ASSISTANT_NAME</span>\n",
              "</mark>\n",
              " Admitted By AD12 Patient Weight 550, 91 3144 Principall Procedures and Secondary Procedures 53.03 633 49530 1-12 More \n",
              "<mark class=\"entity\" style=\"background: #ddd; padding: 0.45em 0.6em; margin: 0 0.25em; line-height: 1; border-radius: 0.35em;\">\n",
              "    Consuitations Dispgsition ofCase\n",
              "    <span style=\"font-size: 0.8em; font-weight: bold; line-height: 1; border-radius: 0.35em; vertical-align: middle; margin-left: 0.5rem\">SPECIALIST_NAME</span>\n",
              "</mark>\n",
              " &lt; Home Expired Transferred to: Coder kp Date Swing Bed Autopsy Supervised Living AMA D Home Health Nursing Home Icertify that the narrative description oft the principal and secondary diagnoses and the major proçedures performed are accurate and complete to the best ofr my knowledge. Attending Physician Date</div></span>"
            ]
          },
          "metadata": {}
        },
        {
          "output_type": "display_data",
          "data": {
            "text/plain": [
              "<IPython.core.display.HTML object>"
            ],
            "text/html": [
              "<span class=\"tex2jax_ignore\"><div class=\"entities\" style=\"line-height: 2.5; direction: ltr\">Community General Hospital Patient Account# 12345 Patient Name (las)(Firs)(Misdale) Brown, John Patient Address (Street) (City) (State) (ZipCode) Previous or Maiden Name Notify in Case ofE Emergency Patient Social Security Number Employer Name 123-45-6789 Big Company Guarantor Address Same Payer Financial Class Provisional Diagnosis Right Ing Hernia Principal Diagnosis, Secondary Diagnosis and Complications INPATIENT REGISTRATION AND SUMMARY FORM Medical Record# 215043 Admit Date Admit time DateofPrev. Admit Attending Physician Number and Name \n",
              "<mark class=\"entity\" style=\"background: #ddd; padding: 0.45em 0.6em; margin: 0 0.25em; line-height: 1; border-radius: 0.35em;\">\n",
              "    Jeff T. Moore\n",
              "    <span style=\"font-size: 0.8em; font-weight: bold; line-height: 1; border-radius: 0.35em; vertical-align: middle; margin-left: 0.5rem\">PHYSICIAN_NAME</span>\n",
              "</mark>\n",
              " Birth) Date Patient Type 97 Inp Marital Religion St Hospital Services S 11/12/99 11:10 Patient Phone# 123-123-4567 Comments Donor No Phone Guarantor# # Guarantor Name 27 Cottonwood Ln Anytown USA Age 9/10/44 54 M M Address City/State Relationship Employer City/State Anytown, US John Brown Guarantor Social Security Number Group Name Dischargel Date Disch. Time 11/13/99/11:30 Policy Number 123456789 Insured'sName \n",
              "<mark class=\"entity\" style=\"background: #ddd; padding: 0.45em 0.6em; margin: 0 0.25em; line-height: 1; border-radius: 0.35em;\">\n",
              "    John Brown Southern Company\n",
              "    <span style=\"font-size: 0.8em; font-weight: bold; line-height: 1; border-radius: 0.35em; vertical-align: middle; margin-left: 0.5rem\">ASSISTANT_NAME</span>\n",
              "</mark>\n",
              " Admitted By AD12 Patient Weight 550, 91 3144 Principall Procedures and Secondary Procedures 53.03 633 49530 1-12 More \n",
              "<mark class=\"entity\" style=\"background: #ddd; padding: 0.45em 0.6em; margin: 0 0.25em; line-height: 1; border-radius: 0.35em;\">\n",
              "    Consuitations Dispgsition ofCase\n",
              "    <span style=\"font-size: 0.8em; font-weight: bold; line-height: 1; border-radius: 0.35em; vertical-align: middle; margin-left: 0.5rem\">SPECIALIST_NAME</span>\n",
              "</mark>\n",
              " &lt; Home Expired Transferred to: Coder kp Date Swing Bed Autopsy Supervised Living AMA D Home Health Nursing Home Icertify that the narrative description oft the principal and secondary diagnoses and the major proçedures performed are accurate and complete to the best ofr my knowledge. Attending Physician Date</div></span>"
            ]
          },
          "metadata": {}
        },
        {
          "output_type": "display_data",
          "data": {
            "text/plain": [
              "<IPython.core.display.HTML object>"
            ],
            "text/html": [
              "<span class=\"tex2jax_ignore\"><div class=\"entities\" style=\"line-height: 2.5; direction: ltr\">Community General Hospital Patient Account# 12345 Patient Name (las)(Firs)(Misdale) Brown, John Patient Address (Street) (City) (State) (ZipCode) Previous or Maiden Name Notify in Case ofE Emergency Patient Social Security Number Employer Name 123-45-6789 Big Company Guarantor Address Same Payer Financial Class Provisional Diagnosis Right Ing Hernia Principal Diagnosis, Secondary Diagnosis and Complications INPATIENT REGISTRATION AND SUMMARY FORM Medical Record# 215043 Admit Date Admit time DateofPrev. Admit Attending Physician Number and Name \n",
              "<mark class=\"entity\" style=\"background: #ddd; padding: 0.45em 0.6em; margin: 0 0.25em; line-height: 1; border-radius: 0.35em;\">\n",
              "    Jeff T. Moore\n",
              "    <span style=\"font-size: 0.8em; font-weight: bold; line-height: 1; border-radius: 0.35em; vertical-align: middle; margin-left: 0.5rem\">PHYSICIAN_NAME</span>\n",
              "</mark>\n",
              " Birth) Date Patient Type 97 Inp Marital Religion St Hospital Services S 11/12/99 11:10 Patient Phone# 123-123-4567 Comments Donor No Phone Guarantor# # Guarantor Name 27 Cottonwood Ln Anytown USA Age 9/10/44 54 M M Address City/State Relationship Employer City/State Anytown, US John Brown Guarantor Social Security Number Group Name Dischargel Date Disch. Time 11/13/99/11:30 Policy Number 123456789 Insured'sName \n",
              "<mark class=\"entity\" style=\"background: #ddd; padding: 0.45em 0.6em; margin: 0 0.25em; line-height: 1; border-radius: 0.35em;\">\n",
              "    John Brown Southern Company\n",
              "    <span style=\"font-size: 0.8em; font-weight: bold; line-height: 1; border-radius: 0.35em; vertical-align: middle; margin-left: 0.5rem\">ASSISTANT_NAME</span>\n",
              "</mark>\n",
              " Admitted By AD12 Patient Weight 550, 91 3144 Principall Procedures and Secondary Procedures 53.03 633 49530 1-12 More \n",
              "<mark class=\"entity\" style=\"background: #ddd; padding: 0.45em 0.6em; margin: 0 0.25em; line-height: 1; border-radius: 0.35em;\">\n",
              "    Consuitations Dispgsition ofCase\n",
              "    <span style=\"font-size: 0.8em; font-weight: bold; line-height: 1; border-radius: 0.35em; vertical-align: middle; margin-left: 0.5rem\">SPECIALIST_NAME</span>\n",
              "</mark>\n",
              " &lt; Home Expired Transferred to: Coder kp Date Swing Bed Autopsy Supervised Living AMA D Home Health Nursing Home Icertify that the narrative description oft the principal and secondary diagnoses and the major proçedures performed are accurate and complete to the best ofr my knowledge. Attending Physician Date</div></span>"
            ]
          },
          "metadata": {}
        }
      ]
    },
    {
      "cell_type": "code",
      "source": [
        "import shutil\n",
        "shutil.make_archive('updated_spacy_model', 'zip', '/content')"
      ],
      "metadata": {
        "colab": {
          "base_uri": "https://localhost:8080/",
          "height": 35
        },
        "id": "68qOpH4RRhdE",
        "outputId": "d092bcb3-04bc-4d37-97d7-b457f1772cd8"
      },
      "execution_count": 92,
      "outputs": [
        {
          "output_type": "execute_result",
          "data": {
            "text/plain": [
              "'/content/updated_spacy_model.zip'"
            ],
            "application/vnd.google.colaboratory.intrinsic+json": {
              "type": "string"
            }
          },
          "metadata": {},
          "execution_count": 92
        }
      ]
    }
  ]
}